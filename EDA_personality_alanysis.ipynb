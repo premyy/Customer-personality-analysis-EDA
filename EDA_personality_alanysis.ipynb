{
 "cells": [
  {
   "cell_type": "code",
   "execution_count": 98,
   "id": "e2728fe7",
   "metadata": {},
   "outputs": [],
   "source": [
    "import pandas as pd\n",
    "import numpy as np\n",
    "import seaborn as sns\n",
    "import matplotlib.pyplot as plt\n",
    "\n",
    "# for data and time\n",
    "from datetime import datetime, date"
   ]
  },
  {
   "cell_type": "code",
   "execution_count": 4,
   "id": "a6b34307",
   "metadata": {},
   "outputs": [],
   "source": [
    "df=pd.read_csv(r\"C:\\Users\\prem\\Downloads\\marketing_campaign.csv\")"
   ]
  },
  {
   "cell_type": "code",
   "execution_count": 5,
   "id": "fbaf25a4",
   "metadata": {},
   "outputs": [
    {
     "data": {
      "text/html": [
       "<div>\n",
       "<style scoped>\n",
       "    .dataframe tbody tr th:only-of-type {\n",
       "        vertical-align: middle;\n",
       "    }\n",
       "\n",
       "    .dataframe tbody tr th {\n",
       "        vertical-align: top;\n",
       "    }\n",
       "\n",
       "    .dataframe thead th {\n",
       "        text-align: right;\n",
       "    }\n",
       "</style>\n",
       "<table border=\"1\" class=\"dataframe\">\n",
       "  <thead>\n",
       "    <tr style=\"text-align: right;\">\n",
       "      <th></th>\n",
       "      <th>ID;Year_Birth;Education;Marital_Status;Income;Kidhome;Teenhome;Dt_Customer;Recency;MntWines;MntFruits;MntMeatProducts;MntFishProducts;MntSweetProducts;MntGoldProds;NumDealsPurchases;NumWebPurchases;NumCatalogPurchases;NumStorePurchases;NumWebVisitsMonth;AcceptedCmp3;AcceptedCmp4;AcceptedCmp5;AcceptedCmp1;AcceptedCmp2;Complain;Z_CostContact;Z_Revenue;Response</th>\n",
       "    </tr>\n",
       "  </thead>\n",
       "  <tbody>\n",
       "    <tr>\n",
       "      <th>0</th>\n",
       "      <td>5524;1957;Graduation;Single;58138;0;0;2012-09-...</td>\n",
       "    </tr>\n",
       "    <tr>\n",
       "      <th>1</th>\n",
       "      <td>2174;1954;Graduation;Single;46344;1;1;2014-03-...</td>\n",
       "    </tr>\n",
       "    <tr>\n",
       "      <th>2</th>\n",
       "      <td>4141;1965;Graduation;Together;71613;0;0;2013-0...</td>\n",
       "    </tr>\n",
       "    <tr>\n",
       "      <th>3</th>\n",
       "      <td>6182;1984;Graduation;Together;26646;1;0;2014-0...</td>\n",
       "    </tr>\n",
       "    <tr>\n",
       "      <th>4</th>\n",
       "      <td>5324;1981;PhD;Married;58293;1;0;2014-01-19;94;...</td>\n",
       "    </tr>\n",
       "    <tr>\n",
       "      <th>...</th>\n",
       "      <td>...</td>\n",
       "    </tr>\n",
       "    <tr>\n",
       "      <th>2235</th>\n",
       "      <td>10870;1967;Graduation;Married;61223;0;1;2013-0...</td>\n",
       "    </tr>\n",
       "    <tr>\n",
       "      <th>2236</th>\n",
       "      <td>4001;1946;PhD;Together;64014;2;1;2014-06-10;56...</td>\n",
       "    </tr>\n",
       "    <tr>\n",
       "      <th>2237</th>\n",
       "      <td>7270;1981;Graduation;Divorced;56981;0;0;2014-0...</td>\n",
       "    </tr>\n",
       "    <tr>\n",
       "      <th>2238</th>\n",
       "      <td>8235;1956;Master;Together;69245;0;1;2014-01-24...</td>\n",
       "    </tr>\n",
       "    <tr>\n",
       "      <th>2239</th>\n",
       "      <td>9405;1954;PhD;Married;52869;1;1;2012-10-15;40;...</td>\n",
       "    </tr>\n",
       "  </tbody>\n",
       "</table>\n",
       "<p>2240 rows × 1 columns</p>\n",
       "</div>"
      ],
      "text/plain": [
       "     ID;Year_Birth;Education;Marital_Status;Income;Kidhome;Teenhome;Dt_Customer;Recency;MntWines;MntFruits;MntMeatProducts;MntFishProducts;MntSweetProducts;MntGoldProds;NumDealsPurchases;NumWebPurchases;NumCatalogPurchases;NumStorePurchases;NumWebVisitsMonth;AcceptedCmp3;AcceptedCmp4;AcceptedCmp5;AcceptedCmp1;AcceptedCmp2;Complain;Z_CostContact;Z_Revenue;Response\n",
       "0     5524;1957;Graduation;Single;58138;0;0;2012-09-...                                                                                                                                                                                                                                                                                                                      \n",
       "1     2174;1954;Graduation;Single;46344;1;1;2014-03-...                                                                                                                                                                                                                                                                                                                      \n",
       "2     4141;1965;Graduation;Together;71613;0;0;2013-0...                                                                                                                                                                                                                                                                                                                      \n",
       "3     6182;1984;Graduation;Together;26646;1;0;2014-0...                                                                                                                                                                                                                                                                                                                      \n",
       "4     5324;1981;PhD;Married;58293;1;0;2014-01-19;94;...                                                                                                                                                                                                                                                                                                                      \n",
       "...                                                 ...                                                                                                                                                                                                                                                                                                                      \n",
       "2235  10870;1967;Graduation;Married;61223;0;1;2013-0...                                                                                                                                                                                                                                                                                                                      \n",
       "2236  4001;1946;PhD;Together;64014;2;1;2014-06-10;56...                                                                                                                                                                                                                                                                                                                      \n",
       "2237  7270;1981;Graduation;Divorced;56981;0;0;2014-0...                                                                                                                                                                                                                                                                                                                      \n",
       "2238  8235;1956;Master;Together;69245;0;1;2014-01-24...                                                                                                                                                                                                                                                                                                                      \n",
       "2239  9405;1954;PhD;Married;52869;1;1;2012-10-15;40;...                                                                                                                                                                                                                                                                                                                      \n",
       "\n",
       "[2240 rows x 1 columns]"
      ]
     },
     "execution_count": 5,
     "metadata": {},
     "output_type": "execute_result"
    }
   ],
   "source": [
    "df"
   ]
  },
  {
   "cell_type": "code",
   "execution_count": 26,
   "id": "2472f170",
   "metadata": {},
   "outputs": [
    {
     "ename": "SyntaxError",
     "evalue": "invalid syntax (<ipython-input-26-66d6fb6c046d>, line 1)",
     "output_type": "error",
     "traceback": [
      "\u001b[1;36m  File \u001b[1;32m\"<ipython-input-26-66d6fb6c046d>\"\u001b[1;36m, line \u001b[1;32m1\u001b[0m\n\u001b[1;33m    [ID;Year_Birth;Education;Marital_Status;Income;Kidhome;Teenhome;Dt_Customer;Recency;MntWines;MntFruits;MntMeatProducts;MntFishProducts;MntSweetProducts;MntGoldProds;NumDealsPurchases;NumWebPurchases;NumCatalogPurchases;NumStorePurchases;NumWebVisitsMonth;AcceptedCmp3;AcceptedCmp4;AcceptedCmp5;AcceptedCmp1;AcceptedCmp2;Complain;Z_CostContact;Z_Revenue;Response].split(';')\u001b[0m\n\u001b[1;37m       ^\u001b[0m\n\u001b[1;31mSyntaxError\u001b[0m\u001b[1;31m:\u001b[0m invalid syntax\n"
     ]
    }
   ],
   "source": [
    "[ID;Year_Birth;Education;Marital_Status;Income;Kidhome;Teenhome;Dt_Customer;Recency;MntWines;MntFruits;MntMeatProducts;MntFishProducts;MntSweetProducts;MntGoldProds;NumDealsPurchases;NumWebPurchases;NumCatalogPurchases;NumStorePurchases;NumWebVisitsMonth;AcceptedCmp3;AcceptedCmp4;AcceptedCmp5;AcceptedCmp1;AcceptedCmp2;Complain;Z_CostContact;Z_Revenue;Response].split(';')"
   ]
  },
  {
   "cell_type": "code",
   "execution_count": 27,
   "id": "85db6299",
   "metadata": {},
   "outputs": [],
   "source": [
    "column_name=['ID', 'Year_Birth', 'Education', 'Marital_Status', 'Income', 'Kidhome', 'Teenhome', 'Dt_Customer',\n",
    "            'Recency', 'MntWines', 'MntFruits', 'MntMeatProducts', 'MntFishProducts', 'MntSweetProducts', 'MntGoldProds',\n",
    "            'NumDealsPurchases', 'NumWebPurchases', 'NumCatalogPurchases', 'NumStorePurchases', 'NumWebVisitsMonth', \n",
    "            'AcceptedCmp3', 'AcceptedCmp4', 'AcceptedCmp5', 'AcceptedCmp1', 'AcceptedCmp2', 'Complain', 'Z_CostContact',\n",
    "            'Z_Revenue', 'Response']"
   ]
  },
  {
   "cell_type": "code",
   "execution_count": 28,
   "id": "e95a4f14",
   "metadata": {},
   "outputs": [
    {
     "data": {
      "text/plain": [
       "['ID',\n",
       " 'Year_Birth',\n",
       " 'Education',\n",
       " 'Marital_Status',\n",
       " 'Income',\n",
       " 'Kidhome',\n",
       " 'Teenhome',\n",
       " 'Dt_Customer',\n",
       " 'Recency',\n",
       " 'MntWines',\n",
       " 'MntFruits',\n",
       " 'MntMeatProducts',\n",
       " 'MntFishProducts',\n",
       " 'MntSweetProducts',\n",
       " 'MntGoldProds',\n",
       " 'NumDealsPurchases',\n",
       " 'NumWebPurchases',\n",
       " 'NumCatalogPurchases',\n",
       " 'NumStorePurchases',\n",
       " 'NumWebVisitsMonth',\n",
       " 'AcceptedCmp3',\n",
       " 'AcceptedCmp4',\n",
       " 'AcceptedCmp5',\n",
       " 'AcceptedCmp1',\n",
       " 'AcceptedCmp2',\n",
       " 'Complain',\n",
       " 'Z_CostContact',\n",
       " 'Z_Revenue',\n",
       " 'Response']"
      ]
     },
     "execution_count": 28,
     "metadata": {},
     "output_type": "execute_result"
    }
   ],
   "source": [
    "column_name"
   ]
  },
  {
   "cell_type": "code",
   "execution_count": 34,
   "id": "998575fc",
   "metadata": {},
   "outputs": [],
   "source": [
    "df[['ID',\n",
    " 'Year_Birth',\n",
    " 'Education',\n",
    " 'Marital_Status',\n",
    " 'Income',\n",
    " 'Kidhome',\n",
    " 'Teenhome',\n",
    " 'Dt_Customer',\n",
    " 'Recency',\n",
    " 'MntWines',\n",
    " 'MntFruits',\n",
    " 'MntMeatProducts',\n",
    " 'MntFishProducts',\n",
    " 'MntSweetProducts',\n",
    " 'MntGoldProds',\n",
    " 'NumDealsPurchases',\n",
    " 'NumWebPurchases',\n",
    " 'NumCatalogPurchases',\n",
    " 'NumStorePurchases',\n",
    " 'NumWebVisitsMonth',\n",
    " 'AcceptedCmp3',\n",
    " 'AcceptedCmp4',\n",
    " 'AcceptedCmp5',\n",
    " 'AcceptedCmp1',\n",
    " 'AcceptedCmp2',\n",
    " 'Complain',\n",
    " 'Z_CostContact',\n",
    " 'Z_Revenue',\n",
    " 'Response']]=df['ID;Year_Birth;Education;Marital_Status;Income;Kidhome;Teenhome;Dt_Customer;Recency;MntWines;MntFruits;MntMeatProducts;MntFishProducts;MntSweetProducts;MntGoldProds;NumDealsPurchases;NumWebPurchases;NumCatalogPurchases;NumStorePurchases;NumWebVisitsMonth;AcceptedCmp3;AcceptedCmp4;AcceptedCmp5;AcceptedCmp1;AcceptedCmp2;Complain;Z_CostContact;Z_Revenue;Response'].str.split(';',expand=True)"
   ]
  },
  {
   "cell_type": "code",
   "execution_count": 35,
   "id": "47eeefd2",
   "metadata": {},
   "outputs": [
    {
     "data": {
      "text/html": [
       "<div>\n",
       "<style scoped>\n",
       "    .dataframe tbody tr th:only-of-type {\n",
       "        vertical-align: middle;\n",
       "    }\n",
       "\n",
       "    .dataframe tbody tr th {\n",
       "        vertical-align: top;\n",
       "    }\n",
       "\n",
       "    .dataframe thead th {\n",
       "        text-align: right;\n",
       "    }\n",
       "</style>\n",
       "<table border=\"1\" class=\"dataframe\">\n",
       "  <thead>\n",
       "    <tr style=\"text-align: right;\">\n",
       "      <th></th>\n",
       "      <th>ID;Year_Birth;Education;Marital_Status;Income;Kidhome;Teenhome;Dt_Customer;Recency;MntWines;MntFruits;MntMeatProducts;MntFishProducts;MntSweetProducts;MntGoldProds;NumDealsPurchases;NumWebPurchases;NumCatalogPurchases;NumStorePurchases;NumWebVisitsMonth;AcceptedCmp3;AcceptedCmp4;AcceptedCmp5;AcceptedCmp1;AcceptedCmp2;Complain;Z_CostContact;Z_Revenue;Response</th>\n",
       "      <th>ID</th>\n",
       "      <th>Year_Birth</th>\n",
       "      <th>Education</th>\n",
       "      <th>Marital_Status</th>\n",
       "      <th>Income</th>\n",
       "      <th>Kidhome</th>\n",
       "      <th>Teenhome</th>\n",
       "      <th>Dt_Customer</th>\n",
       "      <th>Recency</th>\n",
       "      <th>...</th>\n",
       "      <th>NumWebVisitsMonth</th>\n",
       "      <th>AcceptedCmp3</th>\n",
       "      <th>AcceptedCmp4</th>\n",
       "      <th>AcceptedCmp5</th>\n",
       "      <th>AcceptedCmp1</th>\n",
       "      <th>AcceptedCmp2</th>\n",
       "      <th>Complain</th>\n",
       "      <th>Z_CostContact</th>\n",
       "      <th>Z_Revenue</th>\n",
       "      <th>Response</th>\n",
       "    </tr>\n",
       "  </thead>\n",
       "  <tbody>\n",
       "    <tr>\n",
       "      <th>0</th>\n",
       "      <td>5524;1957;Graduation;Single;58138;0;0;2012-09-...</td>\n",
       "      <td>5524</td>\n",
       "      <td>1957</td>\n",
       "      <td>Graduation</td>\n",
       "      <td>Single</td>\n",
       "      <td>58138</td>\n",
       "      <td>0</td>\n",
       "      <td>0</td>\n",
       "      <td>2012-09-04</td>\n",
       "      <td>58</td>\n",
       "      <td>...</td>\n",
       "      <td>7</td>\n",
       "      <td>0</td>\n",
       "      <td>0</td>\n",
       "      <td>0</td>\n",
       "      <td>0</td>\n",
       "      <td>0</td>\n",
       "      <td>0</td>\n",
       "      <td>3</td>\n",
       "      <td>11</td>\n",
       "      <td>1</td>\n",
       "    </tr>\n",
       "    <tr>\n",
       "      <th>1</th>\n",
       "      <td>2174;1954;Graduation;Single;46344;1;1;2014-03-...</td>\n",
       "      <td>2174</td>\n",
       "      <td>1954</td>\n",
       "      <td>Graduation</td>\n",
       "      <td>Single</td>\n",
       "      <td>46344</td>\n",
       "      <td>1</td>\n",
       "      <td>1</td>\n",
       "      <td>2014-03-08</td>\n",
       "      <td>38</td>\n",
       "      <td>...</td>\n",
       "      <td>5</td>\n",
       "      <td>0</td>\n",
       "      <td>0</td>\n",
       "      <td>0</td>\n",
       "      <td>0</td>\n",
       "      <td>0</td>\n",
       "      <td>0</td>\n",
       "      <td>3</td>\n",
       "      <td>11</td>\n",
       "      <td>0</td>\n",
       "    </tr>\n",
       "    <tr>\n",
       "      <th>2</th>\n",
       "      <td>4141;1965;Graduation;Together;71613;0;0;2013-0...</td>\n",
       "      <td>4141</td>\n",
       "      <td>1965</td>\n",
       "      <td>Graduation</td>\n",
       "      <td>Together</td>\n",
       "      <td>71613</td>\n",
       "      <td>0</td>\n",
       "      <td>0</td>\n",
       "      <td>2013-08-21</td>\n",
       "      <td>26</td>\n",
       "      <td>...</td>\n",
       "      <td>4</td>\n",
       "      <td>0</td>\n",
       "      <td>0</td>\n",
       "      <td>0</td>\n",
       "      <td>0</td>\n",
       "      <td>0</td>\n",
       "      <td>0</td>\n",
       "      <td>3</td>\n",
       "      <td>11</td>\n",
       "      <td>0</td>\n",
       "    </tr>\n",
       "    <tr>\n",
       "      <th>3</th>\n",
       "      <td>6182;1984;Graduation;Together;26646;1;0;2014-0...</td>\n",
       "      <td>6182</td>\n",
       "      <td>1984</td>\n",
       "      <td>Graduation</td>\n",
       "      <td>Together</td>\n",
       "      <td>26646</td>\n",
       "      <td>1</td>\n",
       "      <td>0</td>\n",
       "      <td>2014-02-10</td>\n",
       "      <td>26</td>\n",
       "      <td>...</td>\n",
       "      <td>6</td>\n",
       "      <td>0</td>\n",
       "      <td>0</td>\n",
       "      <td>0</td>\n",
       "      <td>0</td>\n",
       "      <td>0</td>\n",
       "      <td>0</td>\n",
       "      <td>3</td>\n",
       "      <td>11</td>\n",
       "      <td>0</td>\n",
       "    </tr>\n",
       "    <tr>\n",
       "      <th>4</th>\n",
       "      <td>5324;1981;PhD;Married;58293;1;0;2014-01-19;94;...</td>\n",
       "      <td>5324</td>\n",
       "      <td>1981</td>\n",
       "      <td>PhD</td>\n",
       "      <td>Married</td>\n",
       "      <td>58293</td>\n",
       "      <td>1</td>\n",
       "      <td>0</td>\n",
       "      <td>2014-01-19</td>\n",
       "      <td>94</td>\n",
       "      <td>...</td>\n",
       "      <td>5</td>\n",
       "      <td>0</td>\n",
       "      <td>0</td>\n",
       "      <td>0</td>\n",
       "      <td>0</td>\n",
       "      <td>0</td>\n",
       "      <td>0</td>\n",
       "      <td>3</td>\n",
       "      <td>11</td>\n",
       "      <td>0</td>\n",
       "    </tr>\n",
       "    <tr>\n",
       "      <th>...</th>\n",
       "      <td>...</td>\n",
       "      <td>...</td>\n",
       "      <td>...</td>\n",
       "      <td>...</td>\n",
       "      <td>...</td>\n",
       "      <td>...</td>\n",
       "      <td>...</td>\n",
       "      <td>...</td>\n",
       "      <td>...</td>\n",
       "      <td>...</td>\n",
       "      <td>...</td>\n",
       "      <td>...</td>\n",
       "      <td>...</td>\n",
       "      <td>...</td>\n",
       "      <td>...</td>\n",
       "      <td>...</td>\n",
       "      <td>...</td>\n",
       "      <td>...</td>\n",
       "      <td>...</td>\n",
       "      <td>...</td>\n",
       "      <td>...</td>\n",
       "    </tr>\n",
       "    <tr>\n",
       "      <th>2235</th>\n",
       "      <td>10870;1967;Graduation;Married;61223;0;1;2013-0...</td>\n",
       "      <td>10870</td>\n",
       "      <td>1967</td>\n",
       "      <td>Graduation</td>\n",
       "      <td>Married</td>\n",
       "      <td>61223</td>\n",
       "      <td>0</td>\n",
       "      <td>1</td>\n",
       "      <td>2013-06-13</td>\n",
       "      <td>46</td>\n",
       "      <td>...</td>\n",
       "      <td>5</td>\n",
       "      <td>0</td>\n",
       "      <td>0</td>\n",
       "      <td>0</td>\n",
       "      <td>0</td>\n",
       "      <td>0</td>\n",
       "      <td>0</td>\n",
       "      <td>3</td>\n",
       "      <td>11</td>\n",
       "      <td>0</td>\n",
       "    </tr>\n",
       "    <tr>\n",
       "      <th>2236</th>\n",
       "      <td>4001;1946;PhD;Together;64014;2;1;2014-06-10;56...</td>\n",
       "      <td>4001</td>\n",
       "      <td>1946</td>\n",
       "      <td>PhD</td>\n",
       "      <td>Together</td>\n",
       "      <td>64014</td>\n",
       "      <td>2</td>\n",
       "      <td>1</td>\n",
       "      <td>2014-06-10</td>\n",
       "      <td>56</td>\n",
       "      <td>...</td>\n",
       "      <td>7</td>\n",
       "      <td>0</td>\n",
       "      <td>0</td>\n",
       "      <td>0</td>\n",
       "      <td>1</td>\n",
       "      <td>0</td>\n",
       "      <td>0</td>\n",
       "      <td>3</td>\n",
       "      <td>11</td>\n",
       "      <td>0</td>\n",
       "    </tr>\n",
       "    <tr>\n",
       "      <th>2237</th>\n",
       "      <td>7270;1981;Graduation;Divorced;56981;0;0;2014-0...</td>\n",
       "      <td>7270</td>\n",
       "      <td>1981</td>\n",
       "      <td>Graduation</td>\n",
       "      <td>Divorced</td>\n",
       "      <td>56981</td>\n",
       "      <td>0</td>\n",
       "      <td>0</td>\n",
       "      <td>2014-01-25</td>\n",
       "      <td>91</td>\n",
       "      <td>...</td>\n",
       "      <td>6</td>\n",
       "      <td>0</td>\n",
       "      <td>1</td>\n",
       "      <td>0</td>\n",
       "      <td>0</td>\n",
       "      <td>0</td>\n",
       "      <td>0</td>\n",
       "      <td>3</td>\n",
       "      <td>11</td>\n",
       "      <td>0</td>\n",
       "    </tr>\n",
       "    <tr>\n",
       "      <th>2238</th>\n",
       "      <td>8235;1956;Master;Together;69245;0;1;2014-01-24...</td>\n",
       "      <td>8235</td>\n",
       "      <td>1956</td>\n",
       "      <td>Master</td>\n",
       "      <td>Together</td>\n",
       "      <td>69245</td>\n",
       "      <td>0</td>\n",
       "      <td>1</td>\n",
       "      <td>2014-01-24</td>\n",
       "      <td>8</td>\n",
       "      <td>...</td>\n",
       "      <td>3</td>\n",
       "      <td>0</td>\n",
       "      <td>0</td>\n",
       "      <td>0</td>\n",
       "      <td>0</td>\n",
       "      <td>0</td>\n",
       "      <td>0</td>\n",
       "      <td>3</td>\n",
       "      <td>11</td>\n",
       "      <td>0</td>\n",
       "    </tr>\n",
       "    <tr>\n",
       "      <th>2239</th>\n",
       "      <td>9405;1954;PhD;Married;52869;1;1;2012-10-15;40;...</td>\n",
       "      <td>9405</td>\n",
       "      <td>1954</td>\n",
       "      <td>PhD</td>\n",
       "      <td>Married</td>\n",
       "      <td>52869</td>\n",
       "      <td>1</td>\n",
       "      <td>1</td>\n",
       "      <td>2012-10-15</td>\n",
       "      <td>40</td>\n",
       "      <td>...</td>\n",
       "      <td>7</td>\n",
       "      <td>0</td>\n",
       "      <td>0</td>\n",
       "      <td>0</td>\n",
       "      <td>0</td>\n",
       "      <td>0</td>\n",
       "      <td>0</td>\n",
       "      <td>3</td>\n",
       "      <td>11</td>\n",
       "      <td>1</td>\n",
       "    </tr>\n",
       "  </tbody>\n",
       "</table>\n",
       "<p>2240 rows × 30 columns</p>\n",
       "</div>"
      ],
      "text/plain": [
       "     ID;Year_Birth;Education;Marital_Status;Income;Kidhome;Teenhome;Dt_Customer;Recency;MntWines;MntFruits;MntMeatProducts;MntFishProducts;MntSweetProducts;MntGoldProds;NumDealsPurchases;NumWebPurchases;NumCatalogPurchases;NumStorePurchases;NumWebVisitsMonth;AcceptedCmp3;AcceptedCmp4;AcceptedCmp5;AcceptedCmp1;AcceptedCmp2;Complain;Z_CostContact;Z_Revenue;Response  \\\n",
       "0     5524;1957;Graduation;Single;58138;0;0;2012-09-...                                                                                                                                                                                                                                                                                                                         \n",
       "1     2174;1954;Graduation;Single;46344;1;1;2014-03-...                                                                                                                                                                                                                                                                                                                         \n",
       "2     4141;1965;Graduation;Together;71613;0;0;2013-0...                                                                                                                                                                                                                                                                                                                         \n",
       "3     6182;1984;Graduation;Together;26646;1;0;2014-0...                                                                                                                                                                                                                                                                                                                         \n",
       "4     5324;1981;PhD;Married;58293;1;0;2014-01-19;94;...                                                                                                                                                                                                                                                                                                                         \n",
       "...                                                 ...                                                                                                                                                                                                                                                                                                                         \n",
       "2235  10870;1967;Graduation;Married;61223;0;1;2013-0...                                                                                                                                                                                                                                                                                                                         \n",
       "2236  4001;1946;PhD;Together;64014;2;1;2014-06-10;56...                                                                                                                                                                                                                                                                                                                         \n",
       "2237  7270;1981;Graduation;Divorced;56981;0;0;2014-0...                                                                                                                                                                                                                                                                                                                         \n",
       "2238  8235;1956;Master;Together;69245;0;1;2014-01-24...                                                                                                                                                                                                                                                                                                                         \n",
       "2239  9405;1954;PhD;Married;52869;1;1;2012-10-15;40;...                                                                                                                                                                                                                                                                                                                         \n",
       "\n",
       "         ID Year_Birth   Education Marital_Status Income Kidhome Teenhome  \\\n",
       "0      5524       1957  Graduation         Single  58138       0        0   \n",
       "1      2174       1954  Graduation         Single  46344       1        1   \n",
       "2      4141       1965  Graduation       Together  71613       0        0   \n",
       "3      6182       1984  Graduation       Together  26646       1        0   \n",
       "4      5324       1981         PhD        Married  58293       1        0   \n",
       "...     ...        ...         ...            ...    ...     ...      ...   \n",
       "2235  10870       1967  Graduation        Married  61223       0        1   \n",
       "2236   4001       1946         PhD       Together  64014       2        1   \n",
       "2237   7270       1981  Graduation       Divorced  56981       0        0   \n",
       "2238   8235       1956      Master       Together  69245       0        1   \n",
       "2239   9405       1954         PhD        Married  52869       1        1   \n",
       "\n",
       "     Dt_Customer Recency  ... NumWebVisitsMonth AcceptedCmp3 AcceptedCmp4  \\\n",
       "0     2012-09-04      58  ...                 7            0            0   \n",
       "1     2014-03-08      38  ...                 5            0            0   \n",
       "2     2013-08-21      26  ...                 4            0            0   \n",
       "3     2014-02-10      26  ...                 6            0            0   \n",
       "4     2014-01-19      94  ...                 5            0            0   \n",
       "...          ...     ...  ...               ...          ...          ...   \n",
       "2235  2013-06-13      46  ...                 5            0            0   \n",
       "2236  2014-06-10      56  ...                 7            0            0   \n",
       "2237  2014-01-25      91  ...                 6            0            1   \n",
       "2238  2014-01-24       8  ...                 3            0            0   \n",
       "2239  2012-10-15      40  ...                 7            0            0   \n",
       "\n",
       "     AcceptedCmp5 AcceptedCmp1 AcceptedCmp2 Complain Z_CostContact Z_Revenue  \\\n",
       "0               0            0            0        0             3        11   \n",
       "1               0            0            0        0             3        11   \n",
       "2               0            0            0        0             3        11   \n",
       "3               0            0            0        0             3        11   \n",
       "4               0            0            0        0             3        11   \n",
       "...           ...          ...          ...      ...           ...       ...   \n",
       "2235            0            0            0        0             3        11   \n",
       "2236            0            1            0        0             3        11   \n",
       "2237            0            0            0        0             3        11   \n",
       "2238            0            0            0        0             3        11   \n",
       "2239            0            0            0        0             3        11   \n",
       "\n",
       "     Response  \n",
       "0           1  \n",
       "1           0  \n",
       "2           0  \n",
       "3           0  \n",
       "4           0  \n",
       "...       ...  \n",
       "2235        0  \n",
       "2236        0  \n",
       "2237        0  \n",
       "2238        0  \n",
       "2239        1  \n",
       "\n",
       "[2240 rows x 30 columns]"
      ]
     },
     "execution_count": 35,
     "metadata": {},
     "output_type": "execute_result"
    }
   ],
   "source": [
    "df"
   ]
  },
  {
   "cell_type": "code",
   "execution_count": 37,
   "id": "922b49b4",
   "metadata": {},
   "outputs": [],
   "source": [
    "df=df.drop('ID;Year_Birth;Education;Marital_Status;Income;Kidhome;Teenhome;Dt_Customer;Recency;MntWines;MntFruits;MntMeatProducts;MntFishProducts;MntSweetProducts;MntGoldProds;NumDealsPurchases;NumWebPurchases;NumCatalogPurchases;NumStorePurchases;NumWebVisitsMonth;AcceptedCmp3;AcceptedCmp4;AcceptedCmp5;AcceptedCmp1;AcceptedCmp2;Complain;Z_CostContact;Z_Revenue;Response', axis=1)"
   ]
  },
  {
   "cell_type": "code",
   "execution_count": 38,
   "id": "af37ef63",
   "metadata": {},
   "outputs": [
    {
     "data": {
      "text/html": [
       "<div>\n",
       "<style scoped>\n",
       "    .dataframe tbody tr th:only-of-type {\n",
       "        vertical-align: middle;\n",
       "    }\n",
       "\n",
       "    .dataframe tbody tr th {\n",
       "        vertical-align: top;\n",
       "    }\n",
       "\n",
       "    .dataframe thead th {\n",
       "        text-align: right;\n",
       "    }\n",
       "</style>\n",
       "<table border=\"1\" class=\"dataframe\">\n",
       "  <thead>\n",
       "    <tr style=\"text-align: right;\">\n",
       "      <th></th>\n",
       "      <th>ID</th>\n",
       "      <th>Year_Birth</th>\n",
       "      <th>Education</th>\n",
       "      <th>Marital_Status</th>\n",
       "      <th>Income</th>\n",
       "      <th>Kidhome</th>\n",
       "      <th>Teenhome</th>\n",
       "      <th>Dt_Customer</th>\n",
       "      <th>Recency</th>\n",
       "      <th>MntWines</th>\n",
       "      <th>...</th>\n",
       "      <th>NumWebVisitsMonth</th>\n",
       "      <th>AcceptedCmp3</th>\n",
       "      <th>AcceptedCmp4</th>\n",
       "      <th>AcceptedCmp5</th>\n",
       "      <th>AcceptedCmp1</th>\n",
       "      <th>AcceptedCmp2</th>\n",
       "      <th>Complain</th>\n",
       "      <th>Z_CostContact</th>\n",
       "      <th>Z_Revenue</th>\n",
       "      <th>Response</th>\n",
       "    </tr>\n",
       "  </thead>\n",
       "  <tbody>\n",
       "    <tr>\n",
       "      <th>0</th>\n",
       "      <td>5524</td>\n",
       "      <td>1957</td>\n",
       "      <td>Graduation</td>\n",
       "      <td>Single</td>\n",
       "      <td>58138</td>\n",
       "      <td>0</td>\n",
       "      <td>0</td>\n",
       "      <td>2012-09-04</td>\n",
       "      <td>58</td>\n",
       "      <td>635</td>\n",
       "      <td>...</td>\n",
       "      <td>7</td>\n",
       "      <td>0</td>\n",
       "      <td>0</td>\n",
       "      <td>0</td>\n",
       "      <td>0</td>\n",
       "      <td>0</td>\n",
       "      <td>0</td>\n",
       "      <td>3</td>\n",
       "      <td>11</td>\n",
       "      <td>1</td>\n",
       "    </tr>\n",
       "    <tr>\n",
       "      <th>1</th>\n",
       "      <td>2174</td>\n",
       "      <td>1954</td>\n",
       "      <td>Graduation</td>\n",
       "      <td>Single</td>\n",
       "      <td>46344</td>\n",
       "      <td>1</td>\n",
       "      <td>1</td>\n",
       "      <td>2014-03-08</td>\n",
       "      <td>38</td>\n",
       "      <td>11</td>\n",
       "      <td>...</td>\n",
       "      <td>5</td>\n",
       "      <td>0</td>\n",
       "      <td>0</td>\n",
       "      <td>0</td>\n",
       "      <td>0</td>\n",
       "      <td>0</td>\n",
       "      <td>0</td>\n",
       "      <td>3</td>\n",
       "      <td>11</td>\n",
       "      <td>0</td>\n",
       "    </tr>\n",
       "    <tr>\n",
       "      <th>2</th>\n",
       "      <td>4141</td>\n",
       "      <td>1965</td>\n",
       "      <td>Graduation</td>\n",
       "      <td>Together</td>\n",
       "      <td>71613</td>\n",
       "      <td>0</td>\n",
       "      <td>0</td>\n",
       "      <td>2013-08-21</td>\n",
       "      <td>26</td>\n",
       "      <td>426</td>\n",
       "      <td>...</td>\n",
       "      <td>4</td>\n",
       "      <td>0</td>\n",
       "      <td>0</td>\n",
       "      <td>0</td>\n",
       "      <td>0</td>\n",
       "      <td>0</td>\n",
       "      <td>0</td>\n",
       "      <td>3</td>\n",
       "      <td>11</td>\n",
       "      <td>0</td>\n",
       "    </tr>\n",
       "    <tr>\n",
       "      <th>3</th>\n",
       "      <td>6182</td>\n",
       "      <td>1984</td>\n",
       "      <td>Graduation</td>\n",
       "      <td>Together</td>\n",
       "      <td>26646</td>\n",
       "      <td>1</td>\n",
       "      <td>0</td>\n",
       "      <td>2014-02-10</td>\n",
       "      <td>26</td>\n",
       "      <td>11</td>\n",
       "      <td>...</td>\n",
       "      <td>6</td>\n",
       "      <td>0</td>\n",
       "      <td>0</td>\n",
       "      <td>0</td>\n",
       "      <td>0</td>\n",
       "      <td>0</td>\n",
       "      <td>0</td>\n",
       "      <td>3</td>\n",
       "      <td>11</td>\n",
       "      <td>0</td>\n",
       "    </tr>\n",
       "    <tr>\n",
       "      <th>4</th>\n",
       "      <td>5324</td>\n",
       "      <td>1981</td>\n",
       "      <td>PhD</td>\n",
       "      <td>Married</td>\n",
       "      <td>58293</td>\n",
       "      <td>1</td>\n",
       "      <td>0</td>\n",
       "      <td>2014-01-19</td>\n",
       "      <td>94</td>\n",
       "      <td>173</td>\n",
       "      <td>...</td>\n",
       "      <td>5</td>\n",
       "      <td>0</td>\n",
       "      <td>0</td>\n",
       "      <td>0</td>\n",
       "      <td>0</td>\n",
       "      <td>0</td>\n",
       "      <td>0</td>\n",
       "      <td>3</td>\n",
       "      <td>11</td>\n",
       "      <td>0</td>\n",
       "    </tr>\n",
       "    <tr>\n",
       "      <th>...</th>\n",
       "      <td>...</td>\n",
       "      <td>...</td>\n",
       "      <td>...</td>\n",
       "      <td>...</td>\n",
       "      <td>...</td>\n",
       "      <td>...</td>\n",
       "      <td>...</td>\n",
       "      <td>...</td>\n",
       "      <td>...</td>\n",
       "      <td>...</td>\n",
       "      <td>...</td>\n",
       "      <td>...</td>\n",
       "      <td>...</td>\n",
       "      <td>...</td>\n",
       "      <td>...</td>\n",
       "      <td>...</td>\n",
       "      <td>...</td>\n",
       "      <td>...</td>\n",
       "      <td>...</td>\n",
       "      <td>...</td>\n",
       "      <td>...</td>\n",
       "    </tr>\n",
       "    <tr>\n",
       "      <th>2235</th>\n",
       "      <td>10870</td>\n",
       "      <td>1967</td>\n",
       "      <td>Graduation</td>\n",
       "      <td>Married</td>\n",
       "      <td>61223</td>\n",
       "      <td>0</td>\n",
       "      <td>1</td>\n",
       "      <td>2013-06-13</td>\n",
       "      <td>46</td>\n",
       "      <td>709</td>\n",
       "      <td>...</td>\n",
       "      <td>5</td>\n",
       "      <td>0</td>\n",
       "      <td>0</td>\n",
       "      <td>0</td>\n",
       "      <td>0</td>\n",
       "      <td>0</td>\n",
       "      <td>0</td>\n",
       "      <td>3</td>\n",
       "      <td>11</td>\n",
       "      <td>0</td>\n",
       "    </tr>\n",
       "    <tr>\n",
       "      <th>2236</th>\n",
       "      <td>4001</td>\n",
       "      <td>1946</td>\n",
       "      <td>PhD</td>\n",
       "      <td>Together</td>\n",
       "      <td>64014</td>\n",
       "      <td>2</td>\n",
       "      <td>1</td>\n",
       "      <td>2014-06-10</td>\n",
       "      <td>56</td>\n",
       "      <td>406</td>\n",
       "      <td>...</td>\n",
       "      <td>7</td>\n",
       "      <td>0</td>\n",
       "      <td>0</td>\n",
       "      <td>0</td>\n",
       "      <td>1</td>\n",
       "      <td>0</td>\n",
       "      <td>0</td>\n",
       "      <td>3</td>\n",
       "      <td>11</td>\n",
       "      <td>0</td>\n",
       "    </tr>\n",
       "    <tr>\n",
       "      <th>2237</th>\n",
       "      <td>7270</td>\n",
       "      <td>1981</td>\n",
       "      <td>Graduation</td>\n",
       "      <td>Divorced</td>\n",
       "      <td>56981</td>\n",
       "      <td>0</td>\n",
       "      <td>0</td>\n",
       "      <td>2014-01-25</td>\n",
       "      <td>91</td>\n",
       "      <td>908</td>\n",
       "      <td>...</td>\n",
       "      <td>6</td>\n",
       "      <td>0</td>\n",
       "      <td>1</td>\n",
       "      <td>0</td>\n",
       "      <td>0</td>\n",
       "      <td>0</td>\n",
       "      <td>0</td>\n",
       "      <td>3</td>\n",
       "      <td>11</td>\n",
       "      <td>0</td>\n",
       "    </tr>\n",
       "    <tr>\n",
       "      <th>2238</th>\n",
       "      <td>8235</td>\n",
       "      <td>1956</td>\n",
       "      <td>Master</td>\n",
       "      <td>Together</td>\n",
       "      <td>69245</td>\n",
       "      <td>0</td>\n",
       "      <td>1</td>\n",
       "      <td>2014-01-24</td>\n",
       "      <td>8</td>\n",
       "      <td>428</td>\n",
       "      <td>...</td>\n",
       "      <td>3</td>\n",
       "      <td>0</td>\n",
       "      <td>0</td>\n",
       "      <td>0</td>\n",
       "      <td>0</td>\n",
       "      <td>0</td>\n",
       "      <td>0</td>\n",
       "      <td>3</td>\n",
       "      <td>11</td>\n",
       "      <td>0</td>\n",
       "    </tr>\n",
       "    <tr>\n",
       "      <th>2239</th>\n",
       "      <td>9405</td>\n",
       "      <td>1954</td>\n",
       "      <td>PhD</td>\n",
       "      <td>Married</td>\n",
       "      <td>52869</td>\n",
       "      <td>1</td>\n",
       "      <td>1</td>\n",
       "      <td>2012-10-15</td>\n",
       "      <td>40</td>\n",
       "      <td>84</td>\n",
       "      <td>...</td>\n",
       "      <td>7</td>\n",
       "      <td>0</td>\n",
       "      <td>0</td>\n",
       "      <td>0</td>\n",
       "      <td>0</td>\n",
       "      <td>0</td>\n",
       "      <td>0</td>\n",
       "      <td>3</td>\n",
       "      <td>11</td>\n",
       "      <td>1</td>\n",
       "    </tr>\n",
       "  </tbody>\n",
       "</table>\n",
       "<p>2240 rows × 29 columns</p>\n",
       "</div>"
      ],
      "text/plain": [
       "         ID Year_Birth   Education Marital_Status Income Kidhome Teenhome  \\\n",
       "0      5524       1957  Graduation         Single  58138       0        0   \n",
       "1      2174       1954  Graduation         Single  46344       1        1   \n",
       "2      4141       1965  Graduation       Together  71613       0        0   \n",
       "3      6182       1984  Graduation       Together  26646       1        0   \n",
       "4      5324       1981         PhD        Married  58293       1        0   \n",
       "...     ...        ...         ...            ...    ...     ...      ...   \n",
       "2235  10870       1967  Graduation        Married  61223       0        1   \n",
       "2236   4001       1946         PhD       Together  64014       2        1   \n",
       "2237   7270       1981  Graduation       Divorced  56981       0        0   \n",
       "2238   8235       1956      Master       Together  69245       0        1   \n",
       "2239   9405       1954         PhD        Married  52869       1        1   \n",
       "\n",
       "     Dt_Customer Recency MntWines  ... NumWebVisitsMonth AcceptedCmp3  \\\n",
       "0     2012-09-04      58      635  ...                 7            0   \n",
       "1     2014-03-08      38       11  ...                 5            0   \n",
       "2     2013-08-21      26      426  ...                 4            0   \n",
       "3     2014-02-10      26       11  ...                 6            0   \n",
       "4     2014-01-19      94      173  ...                 5            0   \n",
       "...          ...     ...      ...  ...               ...          ...   \n",
       "2235  2013-06-13      46      709  ...                 5            0   \n",
       "2236  2014-06-10      56      406  ...                 7            0   \n",
       "2237  2014-01-25      91      908  ...                 6            0   \n",
       "2238  2014-01-24       8      428  ...                 3            0   \n",
       "2239  2012-10-15      40       84  ...                 7            0   \n",
       "\n",
       "     AcceptedCmp4 AcceptedCmp5 AcceptedCmp1 AcceptedCmp2 Complain  \\\n",
       "0               0            0            0            0        0   \n",
       "1               0            0            0            0        0   \n",
       "2               0            0            0            0        0   \n",
       "3               0            0            0            0        0   \n",
       "4               0            0            0            0        0   \n",
       "...           ...          ...          ...          ...      ...   \n",
       "2235            0            0            0            0        0   \n",
       "2236            0            0            1            0        0   \n",
       "2237            1            0            0            0        0   \n",
       "2238            0            0            0            0        0   \n",
       "2239            0            0            0            0        0   \n",
       "\n",
       "     Z_CostContact Z_Revenue Response  \n",
       "0                3        11        1  \n",
       "1                3        11        0  \n",
       "2                3        11        0  \n",
       "3                3        11        0  \n",
       "4                3        11        0  \n",
       "...            ...       ...      ...  \n",
       "2235             3        11        0  \n",
       "2236             3        11        0  \n",
       "2237             3        11        0  \n",
       "2238             3        11        0  \n",
       "2239             3        11        1  \n",
       "\n",
       "[2240 rows x 29 columns]"
      ]
     },
     "execution_count": 38,
     "metadata": {},
     "output_type": "execute_result"
    }
   ],
   "source": [
    "df"
   ]
  },
  {
   "cell_type": "markdown",
   "id": "065c4131",
   "metadata": {},
   "source": [
    "#### Show top 5 record"
   ]
  },
  {
   "cell_type": "code",
   "execution_count": 39,
   "id": "67a37a86",
   "metadata": {},
   "outputs": [
    {
     "data": {
      "text/html": [
       "<div>\n",
       "<style scoped>\n",
       "    .dataframe tbody tr th:only-of-type {\n",
       "        vertical-align: middle;\n",
       "    }\n",
       "\n",
       "    .dataframe tbody tr th {\n",
       "        vertical-align: top;\n",
       "    }\n",
       "\n",
       "    .dataframe thead th {\n",
       "        text-align: right;\n",
       "    }\n",
       "</style>\n",
       "<table border=\"1\" class=\"dataframe\">\n",
       "  <thead>\n",
       "    <tr style=\"text-align: right;\">\n",
       "      <th></th>\n",
       "      <th>ID</th>\n",
       "      <th>Year_Birth</th>\n",
       "      <th>Education</th>\n",
       "      <th>Marital_Status</th>\n",
       "      <th>Income</th>\n",
       "      <th>Kidhome</th>\n",
       "      <th>Teenhome</th>\n",
       "      <th>Dt_Customer</th>\n",
       "      <th>Recency</th>\n",
       "      <th>MntWines</th>\n",
       "      <th>...</th>\n",
       "      <th>NumWebVisitsMonth</th>\n",
       "      <th>AcceptedCmp3</th>\n",
       "      <th>AcceptedCmp4</th>\n",
       "      <th>AcceptedCmp5</th>\n",
       "      <th>AcceptedCmp1</th>\n",
       "      <th>AcceptedCmp2</th>\n",
       "      <th>Complain</th>\n",
       "      <th>Z_CostContact</th>\n",
       "      <th>Z_Revenue</th>\n",
       "      <th>Response</th>\n",
       "    </tr>\n",
       "  </thead>\n",
       "  <tbody>\n",
       "    <tr>\n",
       "      <th>0</th>\n",
       "      <td>5524</td>\n",
       "      <td>1957</td>\n",
       "      <td>Graduation</td>\n",
       "      <td>Single</td>\n",
       "      <td>58138</td>\n",
       "      <td>0</td>\n",
       "      <td>0</td>\n",
       "      <td>2012-09-04</td>\n",
       "      <td>58</td>\n",
       "      <td>635</td>\n",
       "      <td>...</td>\n",
       "      <td>7</td>\n",
       "      <td>0</td>\n",
       "      <td>0</td>\n",
       "      <td>0</td>\n",
       "      <td>0</td>\n",
       "      <td>0</td>\n",
       "      <td>0</td>\n",
       "      <td>3</td>\n",
       "      <td>11</td>\n",
       "      <td>1</td>\n",
       "    </tr>\n",
       "    <tr>\n",
       "      <th>1</th>\n",
       "      <td>2174</td>\n",
       "      <td>1954</td>\n",
       "      <td>Graduation</td>\n",
       "      <td>Single</td>\n",
       "      <td>46344</td>\n",
       "      <td>1</td>\n",
       "      <td>1</td>\n",
       "      <td>2014-03-08</td>\n",
       "      <td>38</td>\n",
       "      <td>11</td>\n",
       "      <td>...</td>\n",
       "      <td>5</td>\n",
       "      <td>0</td>\n",
       "      <td>0</td>\n",
       "      <td>0</td>\n",
       "      <td>0</td>\n",
       "      <td>0</td>\n",
       "      <td>0</td>\n",
       "      <td>3</td>\n",
       "      <td>11</td>\n",
       "      <td>0</td>\n",
       "    </tr>\n",
       "    <tr>\n",
       "      <th>2</th>\n",
       "      <td>4141</td>\n",
       "      <td>1965</td>\n",
       "      <td>Graduation</td>\n",
       "      <td>Together</td>\n",
       "      <td>71613</td>\n",
       "      <td>0</td>\n",
       "      <td>0</td>\n",
       "      <td>2013-08-21</td>\n",
       "      <td>26</td>\n",
       "      <td>426</td>\n",
       "      <td>...</td>\n",
       "      <td>4</td>\n",
       "      <td>0</td>\n",
       "      <td>0</td>\n",
       "      <td>0</td>\n",
       "      <td>0</td>\n",
       "      <td>0</td>\n",
       "      <td>0</td>\n",
       "      <td>3</td>\n",
       "      <td>11</td>\n",
       "      <td>0</td>\n",
       "    </tr>\n",
       "    <tr>\n",
       "      <th>3</th>\n",
       "      <td>6182</td>\n",
       "      <td>1984</td>\n",
       "      <td>Graduation</td>\n",
       "      <td>Together</td>\n",
       "      <td>26646</td>\n",
       "      <td>1</td>\n",
       "      <td>0</td>\n",
       "      <td>2014-02-10</td>\n",
       "      <td>26</td>\n",
       "      <td>11</td>\n",
       "      <td>...</td>\n",
       "      <td>6</td>\n",
       "      <td>0</td>\n",
       "      <td>0</td>\n",
       "      <td>0</td>\n",
       "      <td>0</td>\n",
       "      <td>0</td>\n",
       "      <td>0</td>\n",
       "      <td>3</td>\n",
       "      <td>11</td>\n",
       "      <td>0</td>\n",
       "    </tr>\n",
       "    <tr>\n",
       "      <th>4</th>\n",
       "      <td>5324</td>\n",
       "      <td>1981</td>\n",
       "      <td>PhD</td>\n",
       "      <td>Married</td>\n",
       "      <td>58293</td>\n",
       "      <td>1</td>\n",
       "      <td>0</td>\n",
       "      <td>2014-01-19</td>\n",
       "      <td>94</td>\n",
       "      <td>173</td>\n",
       "      <td>...</td>\n",
       "      <td>5</td>\n",
       "      <td>0</td>\n",
       "      <td>0</td>\n",
       "      <td>0</td>\n",
       "      <td>0</td>\n",
       "      <td>0</td>\n",
       "      <td>0</td>\n",
       "      <td>3</td>\n",
       "      <td>11</td>\n",
       "      <td>0</td>\n",
       "    </tr>\n",
       "  </tbody>\n",
       "</table>\n",
       "<p>5 rows × 29 columns</p>\n",
       "</div>"
      ],
      "text/plain": [
       "     ID Year_Birth   Education Marital_Status Income Kidhome Teenhome  \\\n",
       "0  5524       1957  Graduation         Single  58138       0        0   \n",
       "1  2174       1954  Graduation         Single  46344       1        1   \n",
       "2  4141       1965  Graduation       Together  71613       0        0   \n",
       "3  6182       1984  Graduation       Together  26646       1        0   \n",
       "4  5324       1981         PhD        Married  58293       1        0   \n",
       "\n",
       "  Dt_Customer Recency MntWines  ... NumWebVisitsMonth AcceptedCmp3  \\\n",
       "0  2012-09-04      58      635  ...                 7            0   \n",
       "1  2014-03-08      38       11  ...                 5            0   \n",
       "2  2013-08-21      26      426  ...                 4            0   \n",
       "3  2014-02-10      26       11  ...                 6            0   \n",
       "4  2014-01-19      94      173  ...                 5            0   \n",
       "\n",
       "  AcceptedCmp4 AcceptedCmp5 AcceptedCmp1 AcceptedCmp2 Complain Z_CostContact  \\\n",
       "0            0            0            0            0        0             3   \n",
       "1            0            0            0            0        0             3   \n",
       "2            0            0            0            0        0             3   \n",
       "3            0            0            0            0        0             3   \n",
       "4            0            0            0            0        0             3   \n",
       "\n",
       "  Z_Revenue Response  \n",
       "0        11        1  \n",
       "1        11        0  \n",
       "2        11        0  \n",
       "3        11        0  \n",
       "4        11        0  \n",
       "\n",
       "[5 rows x 29 columns]"
      ]
     },
     "execution_count": 39,
     "metadata": {},
     "output_type": "execute_result"
    }
   ],
   "source": [
    "df.head()"
   ]
  },
  {
   "cell_type": "markdown",
   "id": "c005e42a",
   "metadata": {},
   "source": [
    "#### Shape of data"
   ]
  },
  {
   "cell_type": "code",
   "execution_count": 46,
   "id": "1b859b98",
   "metadata": {},
   "outputs": [
    {
     "name": "stdout",
     "output_type": "stream",
     "text": [
      "this data consist 2240 rows and 29 column\n",
      "(2240, 29)\n"
     ]
    }
   ],
   "source": [
    "print(f\"this data consist {df.shape[0]} rows and {df.shape[1]} column\")\n",
    "print(df.shape)"
   ]
  },
  {
   "cell_type": "markdown",
   "id": "47070bfc",
   "metadata": {},
   "source": [
    "### Info about data"
   ]
  },
  {
   "cell_type": "markdown",
   "id": "8f93a22f",
   "metadata": {},
   "source": [
    "#### id- Unique iq of each customer\n",
    "Year_Birth - Customer birth year\n",
    "\n",
    "Education - customer's Education level\n",
    "\n",
    "Marital_Status - customer's Marital status\n",
    "\n",
    "Income - customer's yearly household income\n",
    "\n",
    "Kidhome - number of kid in cusomer's home\n",
    "\n",
    "Teenhome - number of teen in customer's home\n",
    "\n",
    "Dt_Customer - date when customer join the company\n",
    "\n",
    "Recency -Number of days customer's last purchase\n",
    "\n",
    "MntWines - Amount spent on wine \n",
    "\n",
    "MntFruits - Amount spent on fruits\n",
    "\n",
    "MntMeatProducts - Amount spent on meat products\n",
    "\n",
    "MntFishProducts -Amount spent on Fish product\n",
    "\n",
    "MntSweetProducts - Amount spent on sweet product\n",
    "\n",
    "MntGoldProds - Amount spent on gold product\n",
    "\n",
    "NumDealsPurchases - Number of purchase with discount \n",
    "\n",
    "NumWebPurchases - NUmber of purchase from company's wepsite\n",
    "\n",
    "NumCatalogPurchases -  NUmber of purchase from catalogue\n",
    "\n",
    "NumStorePurchases - Number of purchase from store\n",
    "\n",
    "NumWebVisitsMonth - Number of visits on comapny wepsite \n",
    "\n",
    "AcceptedCmp3 - if customer accepted campaign 3 offer then 1 otherwise 0\n",
    "\n",
    "AcceptedCmp4 - if customer accepted campaign 4 offer then 1 otherwise 0\n",
    "\n",
    "AcceptedCmp5 - if customer accepted campaign 5 offer then 1 otherwise 0\n",
    "\n",
    "AcceptedCmp1 - if customer accepted campaign 1 offer then 1 otherwise 0\n",
    "\n",
    "AcceptedCmp2 - if customer accepted campaign 2 offer then 1 otherwise 0\n",
    "\n",
    "Complain - if customer have any complain then 1 otherwise 0\n",
    "\n",
    "Z_CostContact - \n",
    "\n",
    "Z_Revenue - \n",
    "\n",
    "Response - if customer accepted offer of last compaign \n"
   ]
  },
  {
   "cell_type": "code",
   "execution_count": 49,
   "id": "31fa8141",
   "metadata": {},
   "outputs": [
    {
     "data": {
      "text/html": [
       "<div>\n",
       "<style scoped>\n",
       "    .dataframe tbody tr th:only-of-type {\n",
       "        vertical-align: middle;\n",
       "    }\n",
       "\n",
       "    .dataframe tbody tr th {\n",
       "        vertical-align: top;\n",
       "    }\n",
       "\n",
       "    .dataframe thead th {\n",
       "        text-align: right;\n",
       "    }\n",
       "</style>\n",
       "<table border=\"1\" class=\"dataframe\">\n",
       "  <thead>\n",
       "    <tr style=\"text-align: right;\">\n",
       "      <th></th>\n",
       "      <th>ID</th>\n",
       "      <th>Year_Birth</th>\n",
       "      <th>Education</th>\n",
       "      <th>Marital_Status</th>\n",
       "      <th>Income</th>\n",
       "      <th>Kidhome</th>\n",
       "      <th>Teenhome</th>\n",
       "      <th>Dt_Customer</th>\n",
       "      <th>Recency</th>\n",
       "      <th>MntWines</th>\n",
       "      <th>...</th>\n",
       "      <th>NumWebVisitsMonth</th>\n",
       "      <th>AcceptedCmp3</th>\n",
       "      <th>AcceptedCmp4</th>\n",
       "      <th>AcceptedCmp5</th>\n",
       "      <th>AcceptedCmp1</th>\n",
       "      <th>AcceptedCmp2</th>\n",
       "      <th>Complain</th>\n",
       "      <th>Z_CostContact</th>\n",
       "      <th>Z_Revenue</th>\n",
       "      <th>Response</th>\n",
       "    </tr>\n",
       "  </thead>\n",
       "  <tbody>\n",
       "    <tr>\n",
       "      <th>0</th>\n",
       "      <td>5524</td>\n",
       "      <td>1957</td>\n",
       "      <td>Graduation</td>\n",
       "      <td>Single</td>\n",
       "      <td>58138</td>\n",
       "      <td>0</td>\n",
       "      <td>0</td>\n",
       "      <td>2012-09-04</td>\n",
       "      <td>58</td>\n",
       "      <td>635</td>\n",
       "      <td>...</td>\n",
       "      <td>7</td>\n",
       "      <td>0</td>\n",
       "      <td>0</td>\n",
       "      <td>0</td>\n",
       "      <td>0</td>\n",
       "      <td>0</td>\n",
       "      <td>0</td>\n",
       "      <td>3</td>\n",
       "      <td>11</td>\n",
       "      <td>1</td>\n",
       "    </tr>\n",
       "    <tr>\n",
       "      <th>1</th>\n",
       "      <td>2174</td>\n",
       "      <td>1954</td>\n",
       "      <td>Graduation</td>\n",
       "      <td>Single</td>\n",
       "      <td>46344</td>\n",
       "      <td>1</td>\n",
       "      <td>1</td>\n",
       "      <td>2014-03-08</td>\n",
       "      <td>38</td>\n",
       "      <td>11</td>\n",
       "      <td>...</td>\n",
       "      <td>5</td>\n",
       "      <td>0</td>\n",
       "      <td>0</td>\n",
       "      <td>0</td>\n",
       "      <td>0</td>\n",
       "      <td>0</td>\n",
       "      <td>0</td>\n",
       "      <td>3</td>\n",
       "      <td>11</td>\n",
       "      <td>0</td>\n",
       "    </tr>\n",
       "    <tr>\n",
       "      <th>2</th>\n",
       "      <td>4141</td>\n",
       "      <td>1965</td>\n",
       "      <td>Graduation</td>\n",
       "      <td>Together</td>\n",
       "      <td>71613</td>\n",
       "      <td>0</td>\n",
       "      <td>0</td>\n",
       "      <td>2013-08-21</td>\n",
       "      <td>26</td>\n",
       "      <td>426</td>\n",
       "      <td>...</td>\n",
       "      <td>4</td>\n",
       "      <td>0</td>\n",
       "      <td>0</td>\n",
       "      <td>0</td>\n",
       "      <td>0</td>\n",
       "      <td>0</td>\n",
       "      <td>0</td>\n",
       "      <td>3</td>\n",
       "      <td>11</td>\n",
       "      <td>0</td>\n",
       "    </tr>\n",
       "    <tr>\n",
       "      <th>3</th>\n",
       "      <td>6182</td>\n",
       "      <td>1984</td>\n",
       "      <td>Graduation</td>\n",
       "      <td>Together</td>\n",
       "      <td>26646</td>\n",
       "      <td>1</td>\n",
       "      <td>0</td>\n",
       "      <td>2014-02-10</td>\n",
       "      <td>26</td>\n",
       "      <td>11</td>\n",
       "      <td>...</td>\n",
       "      <td>6</td>\n",
       "      <td>0</td>\n",
       "      <td>0</td>\n",
       "      <td>0</td>\n",
       "      <td>0</td>\n",
       "      <td>0</td>\n",
       "      <td>0</td>\n",
       "      <td>3</td>\n",
       "      <td>11</td>\n",
       "      <td>0</td>\n",
       "    </tr>\n",
       "    <tr>\n",
       "      <th>4</th>\n",
       "      <td>5324</td>\n",
       "      <td>1981</td>\n",
       "      <td>PhD</td>\n",
       "      <td>Married</td>\n",
       "      <td>58293</td>\n",
       "      <td>1</td>\n",
       "      <td>0</td>\n",
       "      <td>2014-01-19</td>\n",
       "      <td>94</td>\n",
       "      <td>173</td>\n",
       "      <td>...</td>\n",
       "      <td>5</td>\n",
       "      <td>0</td>\n",
       "      <td>0</td>\n",
       "      <td>0</td>\n",
       "      <td>0</td>\n",
       "      <td>0</td>\n",
       "      <td>0</td>\n",
       "      <td>3</td>\n",
       "      <td>11</td>\n",
       "      <td>0</td>\n",
       "    </tr>\n",
       "  </tbody>\n",
       "</table>\n",
       "<p>5 rows × 29 columns</p>\n",
       "</div>"
      ],
      "text/plain": [
       "     ID Year_Birth   Education Marital_Status Income Kidhome Teenhome  \\\n",
       "0  5524       1957  Graduation         Single  58138       0        0   \n",
       "1  2174       1954  Graduation         Single  46344       1        1   \n",
       "2  4141       1965  Graduation       Together  71613       0        0   \n",
       "3  6182       1984  Graduation       Together  26646       1        0   \n",
       "4  5324       1981         PhD        Married  58293       1        0   \n",
       "\n",
       "  Dt_Customer Recency MntWines  ... NumWebVisitsMonth AcceptedCmp3  \\\n",
       "0  2012-09-04      58      635  ...                 7            0   \n",
       "1  2014-03-08      38       11  ...                 5            0   \n",
       "2  2013-08-21      26      426  ...                 4            0   \n",
       "3  2014-02-10      26       11  ...                 6            0   \n",
       "4  2014-01-19      94      173  ...                 5            0   \n",
       "\n",
       "  AcceptedCmp4 AcceptedCmp5 AcceptedCmp1 AcceptedCmp2 Complain Z_CostContact  \\\n",
       "0            0            0            0            0        0             3   \n",
       "1            0            0            0            0        0             3   \n",
       "2            0            0            0            0        0             3   \n",
       "3            0            0            0            0        0             3   \n",
       "4            0            0            0            0        0             3   \n",
       "\n",
       "  Z_Revenue Response  \n",
       "0        11        1  \n",
       "1        11        0  \n",
       "2        11        0  \n",
       "3        11        0  \n",
       "4        11        0  \n",
       "\n",
       "[5 rows x 29 columns]"
      ]
     },
     "execution_count": 49,
     "metadata": {},
     "output_type": "execute_result"
    }
   ],
   "source": [
    "df.head()"
   ]
  },
  {
   "cell_type": "markdown",
   "id": "57a7ef9b",
   "metadata": {},
   "source": [
    "### 3. Data Checks to perform\n",
    "        Check Missing values\n",
    "        Check Duplicates\n",
    "        Check data type\n",
    "        Check the number of unique values of each column\n",
    "        Check statistics of data set\n",
    "        Check various categories present in the different categorical column"
   ]
  },
  {
   "cell_type": "markdown",
   "id": "c40a00dd",
   "metadata": {},
   "source": [
    "### 3.1 Check Missing values"
   ]
  },
  {
   "cell_type": "code",
   "execution_count": 50,
   "id": "2f516eb3",
   "metadata": {},
   "outputs": [
    {
     "data": {
      "text/plain": [
       "ID                     0\n",
       "Year_Birth             0\n",
       "Education              0\n",
       "Marital_Status         0\n",
       "Income                 0\n",
       "Kidhome                0\n",
       "Teenhome               0\n",
       "Dt_Customer            0\n",
       "Recency                0\n",
       "MntWines               0\n",
       "MntFruits              0\n",
       "MntMeatProducts        0\n",
       "MntFishProducts        0\n",
       "MntSweetProducts       0\n",
       "MntGoldProds           0\n",
       "NumDealsPurchases      0\n",
       "NumWebPurchases        0\n",
       "NumCatalogPurchases    0\n",
       "NumStorePurchases      0\n",
       "NumWebVisitsMonth      0\n",
       "AcceptedCmp3           0\n",
       "AcceptedCmp4           0\n",
       "AcceptedCmp5           0\n",
       "AcceptedCmp1           0\n",
       "AcceptedCmp2           0\n",
       "Complain               0\n",
       "Z_CostContact          0\n",
       "Z_Revenue              0\n",
       "Response               0\n",
       "dtype: int64"
      ]
     },
     "execution_count": 50,
     "metadata": {},
     "output_type": "execute_result"
    }
   ],
   "source": [
    "df.isna().sum()"
   ]
  },
  {
   "cell_type": "markdown",
   "id": "70305dec",
   "metadata": {},
   "source": [
    "### There are no missing value in this data set"
   ]
  },
  {
   "cell_type": "markdown",
   "id": "53264b09",
   "metadata": {},
   "source": [
    "### 3.2 Check Duplicates"
   ]
  },
  {
   "cell_type": "code",
   "execution_count": 53,
   "id": "52d6a69d",
   "metadata": {},
   "outputs": [
    {
     "data": {
      "text/plain": [
       "0"
      ]
     },
     "execution_count": 53,
     "metadata": {},
     "output_type": "execute_result"
    }
   ],
   "source": [
    "df.duplicated().sum()"
   ]
  },
  {
   "cell_type": "markdown",
   "id": "ee5dfdc7",
   "metadata": {},
   "source": [
    "### There are no duplicate value in this data set"
   ]
  },
  {
   "cell_type": "markdown",
   "id": "23bd8e18",
   "metadata": {},
   "source": [
    "### 3.3 Check data type"
   ]
  },
  {
   "cell_type": "code",
   "execution_count": 54,
   "id": "a53daacf",
   "metadata": {},
   "outputs": [
    {
     "data": {
      "text/plain": [
       "ID                     object\n",
       "Year_Birth             object\n",
       "Education              object\n",
       "Marital_Status         object\n",
       "Income                 object\n",
       "Kidhome                object\n",
       "Teenhome               object\n",
       "Dt_Customer            object\n",
       "Recency                object\n",
       "MntWines               object\n",
       "MntFruits              object\n",
       "MntMeatProducts        object\n",
       "MntFishProducts        object\n",
       "MntSweetProducts       object\n",
       "MntGoldProds           object\n",
       "NumDealsPurchases      object\n",
       "NumWebPurchases        object\n",
       "NumCatalogPurchases    object\n",
       "NumStorePurchases      object\n",
       "NumWebVisitsMonth      object\n",
       "AcceptedCmp3           object\n",
       "AcceptedCmp4           object\n",
       "AcceptedCmp5           object\n",
       "AcceptedCmp1           object\n",
       "AcceptedCmp2           object\n",
       "Complain               object\n",
       "Z_CostContact          object\n",
       "Z_Revenue              object\n",
       "Response               object\n",
       "dtype: object"
      ]
     },
     "execution_count": 54,
     "metadata": {},
     "output_type": "execute_result"
    }
   ],
   "source": [
    "df.dtypes"
   ]
  },
  {
   "cell_type": "markdown",
   "id": "4e25f8da",
   "metadata": {},
   "source": [
    "#### Here we can see that every column have object data type so we have to change the column data type"
   ]
  },
  {
   "cell_type": "code",
   "execution_count": 63,
   "id": "e2c15468",
   "metadata": {},
   "outputs": [],
   "source": [
    "for i in df.columns:\n",
    "    df[i]=pd.to_numeric(df[i], errors='ignore')"
   ]
  },
  {
   "cell_type": "code",
   "execution_count": 65,
   "id": "8d4713ff",
   "metadata": {},
   "outputs": [
    {
     "data": {
      "text/plain": [
       "ID                       int64\n",
       "Year_Birth               int64\n",
       "Education               object\n",
       "Marital_Status          object\n",
       "Income                 float64\n",
       "Kidhome                  int64\n",
       "Teenhome                 int64\n",
       "Dt_Customer             object\n",
       "Recency                  int64\n",
       "MntWines                 int64\n",
       "MntFruits                int64\n",
       "MntMeatProducts          int64\n",
       "MntFishProducts          int64\n",
       "MntSweetProducts         int64\n",
       "MntGoldProds             int64\n",
       "NumDealsPurchases        int64\n",
       "NumWebPurchases          int64\n",
       "NumCatalogPurchases      int64\n",
       "NumStorePurchases        int64\n",
       "NumWebVisitsMonth        int64\n",
       "AcceptedCmp3             int64\n",
       "AcceptedCmp4             int64\n",
       "AcceptedCmp5             int64\n",
       "AcceptedCmp1             int64\n",
       "AcceptedCmp2             int64\n",
       "Complain                 int64\n",
       "Z_CostContact            int64\n",
       "Z_Revenue                int64\n",
       "Response                 int64\n",
       "dtype: object"
      ]
     },
     "execution_count": 65,
     "metadata": {},
     "output_type": "execute_result"
    }
   ],
   "source": [
    "df.dtypes"
   ]
  },
  {
   "cell_type": "markdown",
   "id": "41c9b7af",
   "metadata": {},
   "source": [
    "#### There are one noticable thing that is column of Dt_Customer datatype is object and it sholud be datatime so let's change"
   ]
  },
  {
   "cell_type": "code",
   "execution_count": 67,
   "id": "7f3e1302",
   "metadata": {},
   "outputs": [],
   "source": [
    "df['Dt_Customer']=pd.to_datetime(df['Dt_Customer'])"
   ]
  },
  {
   "cell_type": "code",
   "execution_count": 69,
   "id": "ff1c6c60",
   "metadata": {},
   "outputs": [
    {
     "data": {
      "text/plain": [
       "ID                              int64\n",
       "Year_Birth                      int64\n",
       "Education                      object\n",
       "Marital_Status                 object\n",
       "Income                        float64\n",
       "Kidhome                         int64\n",
       "Teenhome                        int64\n",
       "Dt_Customer            datetime64[ns]\n",
       "Recency                         int64\n",
       "MntWines                        int64\n",
       "MntFruits                       int64\n",
       "MntMeatProducts                 int64\n",
       "MntFishProducts                 int64\n",
       "MntSweetProducts                int64\n",
       "MntGoldProds                    int64\n",
       "NumDealsPurchases               int64\n",
       "NumWebPurchases                 int64\n",
       "NumCatalogPurchases             int64\n",
       "NumStorePurchases               int64\n",
       "NumWebVisitsMonth               int64\n",
       "AcceptedCmp3                    int64\n",
       "AcceptedCmp4                    int64\n",
       "AcceptedCmp5                    int64\n",
       "AcceptedCmp1                    int64\n",
       "AcceptedCmp2                    int64\n",
       "Complain                        int64\n",
       "Z_CostContact                   int64\n",
       "Z_Revenue                       int64\n",
       "Response                        int64\n",
       "dtype: object"
      ]
     },
     "execution_count": 69,
     "metadata": {},
     "output_type": "execute_result"
    }
   ],
   "source": [
    "df.dtypes"
   ]
  },
  {
   "cell_type": "markdown",
   "id": "0b636da8",
   "metadata": {},
   "source": [
    "### 3.1  Check Missing values"
   ]
  },
  {
   "cell_type": "code",
   "execution_count": 74,
   "id": "c4766b32",
   "metadata": {},
   "outputs": [
    {
     "data": {
      "text/plain": [
       "ID                      0\n",
       "Year_Birth              0\n",
       "Education               0\n",
       "Marital_Status          0\n",
       "Income                 24\n",
       "Kidhome                 0\n",
       "Teenhome                0\n",
       "Dt_Customer             0\n",
       "Recency                 0\n",
       "MntWines                0\n",
       "MntFruits               0\n",
       "MntMeatProducts         0\n",
       "MntFishProducts         0\n",
       "MntSweetProducts        0\n",
       "MntGoldProds            0\n",
       "NumDealsPurchases       0\n",
       "NumWebPurchases         0\n",
       "NumCatalogPurchases     0\n",
       "NumStorePurchases       0\n",
       "NumWebVisitsMonth       0\n",
       "AcceptedCmp3            0\n",
       "AcceptedCmp4            0\n",
       "AcceptedCmp5            0\n",
       "AcceptedCmp1            0\n",
       "AcceptedCmp2            0\n",
       "Complain                0\n",
       "Z_CostContact           0\n",
       "Z_Revenue               0\n",
       "Response                0\n",
       "dtype: int64"
      ]
     },
     "execution_count": 74,
     "metadata": {},
     "output_type": "execute_result"
    }
   ],
   "source": [
    "df.isna().sum()"
   ]
  },
  {
   "cell_type": "markdown",
   "id": "26f8c89f",
   "metadata": {},
   "source": [
    "#### So here we can see after changing the column type we got 24 Null value in income come we can fill it by mean and median  "
   ]
  },
  {
   "cell_type": "markdown",
   "id": "4ed73fd8",
   "metadata": {},
   "source": [
    "### Fill Null value "
   ]
  },
  {
   "cell_type": "code",
   "execution_count": 78,
   "id": "00926db1",
   "metadata": {},
   "outputs": [
    {
     "name": "stdout",
     "output_type": "stream",
     "text": [
      "52247.25135379061\n",
      "51381.5\n"
     ]
    }
   ],
   "source": [
    "print(df['Income'].mean())\n",
    "print(df['Income'].median())"
   ]
  },
  {
   "cell_type": "code",
   "execution_count": 83,
   "id": "05268d44",
   "metadata": {},
   "outputs": [
    {
     "data": {
      "image/png": "[encoded data removed]",
      "text/plain": [
       "<Figure size 864x360 with 1 Axes>"
      ]
     },
     "metadata": {
      "needs_background": "light"
     },
     "output_type": "display_data"
    }
   ],
   "source": [
    "plt.figure(figsize=(12,5))\n",
    "sns.histplot(df['Income'], kde=True)\n",
    "plt.show()"
   ]
  },
  {
   "cell_type": "markdown",
   "id": "e6fc0514",
   "metadata": {},
   "source": [
    "#### Income column are positive skewed so i'll fill null value by median "
   ]
  },
  {
   "cell_type": "code",
   "execution_count": 86,
   "id": "0422a00c",
   "metadata": {},
   "outputs": [],
   "source": [
    "df['Income']=df['Income'].fillna(df['Income'].median(), )"
   ]
  },
  {
   "cell_type": "code",
   "execution_count": 89,
   "id": "7ca96bfe",
   "metadata": {},
   "outputs": [
    {
     "data": {
      "image/png": "[encoded data removed]",
      "text/plain": [
       "<Figure size 864x360 with 1 Axes>"
      ]
     },
     "metadata": {
      "needs_background": "light"
     },
     "output_type": "display_data"
    }
   ],
   "source": [
    "plt.figure(figsize=(12,5))\n",
    "sns.histplot(df['Income'], kde=True)\n",
    "plt.show()"
   ]
  },
  {
   "cell_type": "markdown",
   "id": "838e2000",
   "metadata": {},
   "source": [
    "### 3.4 Check the number of unique values of each column"
   ]
  },
  {
   "cell_type": "code",
   "execution_count": 87,
   "id": "e1658d13",
   "metadata": {},
   "outputs": [
    {
     "data": {
      "text/plain": [
       "ID                     2240\n",
       "Year_Birth               59\n",
       "Education                 5\n",
       "Marital_Status            8\n",
       "Income                 1975\n",
       "Kidhome                   3\n",
       "Teenhome                  3\n",
       "Dt_Customer             663\n",
       "Recency                 100\n",
       "MntWines                776\n",
       "MntFruits               158\n",
       "MntMeatProducts         558\n",
       "MntFishProducts         182\n",
       "MntSweetProducts        177\n",
       "MntGoldProds            213\n",
       "NumDealsPurchases        15\n",
       "NumWebPurchases          15\n",
       "NumCatalogPurchases      14\n",
       "NumStorePurchases        14\n",
       "NumWebVisitsMonth        16\n",
       "AcceptedCmp3              2\n",
       "AcceptedCmp4              2\n",
       "AcceptedCmp5              2\n",
       "AcceptedCmp1              2\n",
       "AcceptedCmp2              2\n",
       "Complain                  2\n",
       "Z_CostContact             1\n",
       "Z_Revenue                 1\n",
       "Response                  2\n",
       "dtype: int64"
      ]
     },
     "execution_count": 87,
     "metadata": {},
     "output_type": "execute_result"
    }
   ],
   "source": [
    "df.nunique()"
   ]
  },
  {
   "cell_type": "markdown",
   "id": "f5ac8a1e",
   "metadata": {},
   "source": [
    "#### These are the unique value in each column"
   ]
  },
  {
   "cell_type": "markdown",
   "id": "c09ca95b",
   "metadata": {},
   "source": [
    "#### These are the different categories in Education and Martial status column"
   ]
  },
  {
   "cell_type": "markdown",
   "id": "3d481678",
   "metadata": {},
   "source": [
    "### 3.5 Check statistics of data set"
   ]
  },
  {
   "cell_type": "code",
   "execution_count": 88,
   "id": "f5238850",
   "metadata": {},
   "outputs": [
    {
     "data": {
      "text/html": [
       "<div>\n",
       "<style scoped>\n",
       "    .dataframe tbody tr th:only-of-type {\n",
       "        vertical-align: middle;\n",
       "    }\n",
       "\n",
       "    .dataframe tbody tr th {\n",
       "        vertical-align: top;\n",
       "    }\n",
       "\n",
       "    .dataframe thead th {\n",
       "        text-align: right;\n",
       "    }\n",
       "</style>\n",
       "<table border=\"1\" class=\"dataframe\">\n",
       "  <thead>\n",
       "    <tr style=\"text-align: right;\">\n",
       "      <th></th>\n",
       "      <th>ID</th>\n",
       "      <th>Year_Birth</th>\n",
       "      <th>Income</th>\n",
       "      <th>Kidhome</th>\n",
       "      <th>Teenhome</th>\n",
       "      <th>Recency</th>\n",
       "      <th>MntWines</th>\n",
       "      <th>MntFruits</th>\n",
       "      <th>MntMeatProducts</th>\n",
       "      <th>MntFishProducts</th>\n",
       "      <th>...</th>\n",
       "      <th>NumWebVisitsMonth</th>\n",
       "      <th>AcceptedCmp3</th>\n",
       "      <th>AcceptedCmp4</th>\n",
       "      <th>AcceptedCmp5</th>\n",
       "      <th>AcceptedCmp1</th>\n",
       "      <th>AcceptedCmp2</th>\n",
       "      <th>Complain</th>\n",
       "      <th>Z_CostContact</th>\n",
       "      <th>Z_Revenue</th>\n",
       "      <th>Response</th>\n",
       "    </tr>\n",
       "  </thead>\n",
       "  <tbody>\n",
       "    <tr>\n",
       "      <th>count</th>\n",
       "      <td>2240.000000</td>\n",
       "      <td>2240.000000</td>\n",
       "      <td>2240.000000</td>\n",
       "      <td>2240.000000</td>\n",
       "      <td>2240.000000</td>\n",
       "      <td>2240.000000</td>\n",
       "      <td>2240.000000</td>\n",
       "      <td>2240.000000</td>\n",
       "      <td>2240.000000</td>\n",
       "      <td>2240.000000</td>\n",
       "      <td>...</td>\n",
       "      <td>2240.000000</td>\n",
       "      <td>2240.000000</td>\n",
       "      <td>2240.000000</td>\n",
       "      <td>2240.000000</td>\n",
       "      <td>2240.000000</td>\n",
       "      <td>2240.000000</td>\n",
       "      <td>2240.000000</td>\n",
       "      <td>2240.0</td>\n",
       "      <td>2240.0</td>\n",
       "      <td>2240.000000</td>\n",
       "    </tr>\n",
       "    <tr>\n",
       "      <th>mean</th>\n",
       "      <td>5592.159821</td>\n",
       "      <td>1968.805804</td>\n",
       "      <td>52237.975446</td>\n",
       "      <td>0.444196</td>\n",
       "      <td>0.506250</td>\n",
       "      <td>49.109375</td>\n",
       "      <td>303.935714</td>\n",
       "      <td>26.302232</td>\n",
       "      <td>166.950000</td>\n",
       "      <td>37.525446</td>\n",
       "      <td>...</td>\n",
       "      <td>5.316518</td>\n",
       "      <td>0.072768</td>\n",
       "      <td>0.074554</td>\n",
       "      <td>0.072768</td>\n",
       "      <td>0.064286</td>\n",
       "      <td>0.013393</td>\n",
       "      <td>0.009375</td>\n",
       "      <td>3.0</td>\n",
       "      <td>11.0</td>\n",
       "      <td>0.149107</td>\n",
       "    </tr>\n",
       "    <tr>\n",
       "      <th>std</th>\n",
       "      <td>3246.662198</td>\n",
       "      <td>11.984069</td>\n",
       "      <td>25037.955891</td>\n",
       "      <td>0.538398</td>\n",
       "      <td>0.544538</td>\n",
       "      <td>28.962453</td>\n",
       "      <td>336.597393</td>\n",
       "      <td>39.773434</td>\n",
       "      <td>225.715373</td>\n",
       "      <td>54.628979</td>\n",
       "      <td>...</td>\n",
       "      <td>2.426645</td>\n",
       "      <td>0.259813</td>\n",
       "      <td>0.262728</td>\n",
       "      <td>0.259813</td>\n",
       "      <td>0.245316</td>\n",
       "      <td>0.114976</td>\n",
       "      <td>0.096391</td>\n",
       "      <td>0.0</td>\n",
       "      <td>0.0</td>\n",
       "      <td>0.356274</td>\n",
       "    </tr>\n",
       "    <tr>\n",
       "      <th>min</th>\n",
       "      <td>0.000000</td>\n",
       "      <td>1893.000000</td>\n",
       "      <td>1730.000000</td>\n",
       "      <td>0.000000</td>\n",
       "      <td>0.000000</td>\n",
       "      <td>0.000000</td>\n",
       "      <td>0.000000</td>\n",
       "      <td>0.000000</td>\n",
       "      <td>0.000000</td>\n",
       "      <td>0.000000</td>\n",
       "      <td>...</td>\n",
       "      <td>0.000000</td>\n",
       "      <td>0.000000</td>\n",
       "      <td>0.000000</td>\n",
       "      <td>0.000000</td>\n",
       "      <td>0.000000</td>\n",
       "      <td>0.000000</td>\n",
       "      <td>0.000000</td>\n",
       "      <td>3.0</td>\n",
       "      <td>11.0</td>\n",
       "      <td>0.000000</td>\n",
       "    </tr>\n",
       "    <tr>\n",
       "      <th>25%</th>\n",
       "      <td>2828.250000</td>\n",
       "      <td>1959.000000</td>\n",
       "      <td>35538.750000</td>\n",
       "      <td>0.000000</td>\n",
       "      <td>0.000000</td>\n",
       "      <td>24.000000</td>\n",
       "      <td>23.750000</td>\n",
       "      <td>1.000000</td>\n",
       "      <td>16.000000</td>\n",
       "      <td>3.000000</td>\n",
       "      <td>...</td>\n",
       "      <td>3.000000</td>\n",
       "      <td>0.000000</td>\n",
       "      <td>0.000000</td>\n",
       "      <td>0.000000</td>\n",
       "      <td>0.000000</td>\n",
       "      <td>0.000000</td>\n",
       "      <td>0.000000</td>\n",
       "      <td>3.0</td>\n",
       "      <td>11.0</td>\n",
       "      <td>0.000000</td>\n",
       "    </tr>\n",
       "    <tr>\n",
       "      <th>50%</th>\n",
       "      <td>5458.500000</td>\n",
       "      <td>1970.000000</td>\n",
       "      <td>51381.500000</td>\n",
       "      <td>0.000000</td>\n",
       "      <td>0.000000</td>\n",
       "      <td>49.000000</td>\n",
       "      <td>173.500000</td>\n",
       "      <td>8.000000</td>\n",
       "      <td>67.000000</td>\n",
       "      <td>12.000000</td>\n",
       "      <td>...</td>\n",
       "      <td>6.000000</td>\n",
       "      <td>0.000000</td>\n",
       "      <td>0.000000</td>\n",
       "      <td>0.000000</td>\n",
       "      <td>0.000000</td>\n",
       "      <td>0.000000</td>\n",
       "      <td>0.000000</td>\n",
       "      <td>3.0</td>\n",
       "      <td>11.0</td>\n",
       "      <td>0.000000</td>\n",
       "    </tr>\n",
       "    <tr>\n",
       "      <th>75%</th>\n",
       "      <td>8427.750000</td>\n",
       "      <td>1977.000000</td>\n",
       "      <td>68289.750000</td>\n",
       "      <td>1.000000</td>\n",
       "      <td>1.000000</td>\n",
       "      <td>74.000000</td>\n",
       "      <td>504.250000</td>\n",
       "      <td>33.000000</td>\n",
       "      <td>232.000000</td>\n",
       "      <td>50.000000</td>\n",
       "      <td>...</td>\n",
       "      <td>7.000000</td>\n",
       "      <td>0.000000</td>\n",
       "      <td>0.000000</td>\n",
       "      <td>0.000000</td>\n",
       "      <td>0.000000</td>\n",
       "      <td>0.000000</td>\n",
       "      <td>0.000000</td>\n",
       "      <td>3.0</td>\n",
       "      <td>11.0</td>\n",
       "      <td>0.000000</td>\n",
       "    </tr>\n",
       "    <tr>\n",
       "      <th>max</th>\n",
       "      <td>11191.000000</td>\n",
       "      <td>1996.000000</td>\n",
       "      <td>666666.000000</td>\n",
       "      <td>2.000000</td>\n",
       "      <td>2.000000</td>\n",
       "      <td>99.000000</td>\n",
       "      <td>1493.000000</td>\n",
       "      <td>199.000000</td>\n",
       "      <td>1725.000000</td>\n",
       "      <td>259.000000</td>\n",
       "      <td>...</td>\n",
       "      <td>20.000000</td>\n",
       "      <td>1.000000</td>\n",
       "      <td>1.000000</td>\n",
       "      <td>1.000000</td>\n",
       "      <td>1.000000</td>\n",
       "      <td>1.000000</td>\n",
       "      <td>1.000000</td>\n",
       "      <td>3.0</td>\n",
       "      <td>11.0</td>\n",
       "      <td>1.000000</td>\n",
       "    </tr>\n",
       "  </tbody>\n",
       "</table>\n",
       "<p>8 rows × 26 columns</p>\n",
       "</div>"
      ],
      "text/plain": [
       "                 ID   Year_Birth         Income      Kidhome     Teenhome  \\\n",
       "count   2240.000000  2240.000000    2240.000000  2240.000000  2240.000000   \n",
       "mean    5592.159821  1968.805804   52237.975446     0.444196     0.506250   \n",
       "std     3246.662198    11.984069   25037.955891     0.538398     0.544538   \n",
       "min        0.000000  1893.000000    1730.000000     0.000000     0.000000   \n",
       "25%     2828.250000  1959.000000   35538.750000     0.000000     0.000000   \n",
       "50%     5458.500000  1970.000000   51381.500000     0.000000     0.000000   \n",
       "75%     8427.750000  1977.000000   68289.750000     1.000000     1.000000   \n",
       "max    11191.000000  1996.000000  666666.000000     2.000000     2.000000   \n",
       "\n",
       "           Recency     MntWines    MntFruits  MntMeatProducts  \\\n",
       "count  2240.000000  2240.000000  2240.000000      2240.000000   \n",
       "mean     49.109375   303.935714    26.302232       166.950000   \n",
       "std      28.962453   336.597393    39.773434       225.715373   \n",
       "min       0.000000     0.000000     0.000000         0.000000   \n",
       "25%      24.000000    23.750000     1.000000        16.000000   \n",
       "50%      49.000000   173.500000     8.000000        67.000000   \n",
       "75%      74.000000   504.250000    33.000000       232.000000   \n",
       "max      99.000000  1493.000000   199.000000      1725.000000   \n",
       "\n",
       "       MntFishProducts  ...  NumWebVisitsMonth  AcceptedCmp3  AcceptedCmp4  \\\n",
       "count      2240.000000  ...        2240.000000   2240.000000   2240.000000   \n",
       "mean         37.525446  ...           5.316518      0.072768      0.074554   \n",
       "std          54.628979  ...           2.426645      0.259813      0.262728   \n",
       "min           0.000000  ...           0.000000      0.000000      0.000000   \n",
       "25%           3.000000  ...           3.000000      0.000000      0.000000   \n",
       "50%          12.000000  ...           6.000000      0.000000      0.000000   \n",
       "75%          50.000000  ...           7.000000      0.000000      0.000000   \n",
       "max         259.000000  ...          20.000000      1.000000      1.000000   \n",
       "\n",
       "       AcceptedCmp5  AcceptedCmp1  AcceptedCmp2     Complain  Z_CostContact  \\\n",
       "count   2240.000000   2240.000000   2240.000000  2240.000000         2240.0   \n",
       "mean       0.072768      0.064286      0.013393     0.009375            3.0   \n",
       "std        0.259813      0.245316      0.114976     0.096391            0.0   \n",
       "min        0.000000      0.000000      0.000000     0.000000            3.0   \n",
       "25%        0.000000      0.000000      0.000000     0.000000            3.0   \n",
       "50%        0.000000      0.000000      0.000000     0.000000            3.0   \n",
       "75%        0.000000      0.000000      0.000000     0.000000            3.0   \n",
       "max        1.000000      1.000000      1.000000     1.000000            3.0   \n",
       "\n",
       "       Z_Revenue     Response  \n",
       "count     2240.0  2240.000000  \n",
       "mean        11.0     0.149107  \n",
       "std          0.0     0.356274  \n",
       "min         11.0     0.000000  \n",
       "25%         11.0     0.000000  \n",
       "50%         11.0     0.000000  \n",
       "75%         11.0     0.000000  \n",
       "max         11.0     1.000000  \n",
       "\n",
       "[8 rows x 26 columns]"
      ]
     },
     "execution_count": 88,
     "metadata": {},
     "output_type": "execute_result"
    }
   ],
   "source": [
    "df.describe()"
   ]
  },
  {
   "cell_type": "markdown",
   "id": "8213f25a",
   "metadata": {},
   "source": [
    "### Insight"
   ]
  },
  {
   "cell_type": "markdown",
   "id": "a0d0a4b1",
   "metadata": {},
   "source": [
    "from above description of numeric data we can see 75% of customer's have kid and teen in home \n"
   ]
  },
  {
   "cell_type": "markdown",
   "id": "796e1a53",
   "metadata": {},
   "source": [
    "### 3.6 Check different Categories "
   ]
  },
  {
   "cell_type": "code",
   "execution_count": 96,
   "id": "19aebd0e",
   "metadata": {},
   "outputs": [
    {
     "name": "stdout",
     "output_type": "stream",
     "text": [
      "Categories in Education column: ['Graduation' 'PhD' 'Master' 'Basic' '2n Cycle']\n",
      "Categories in Marital_Status column: ['Single' 'Together' 'Married' 'Divorced' 'Widow' 'Alone' 'Absurd' 'YOLO']\n"
     ]
    }
   ],
   "source": [
    "print(\"Categories in Education column:\", end=\" \")\n",
    "print(df['Education'].unique())\n",
    "print(\"Categories in Marital_Status column:\", end=\" \")\n",
    "print(df['Marital_Status'].unique())"
   ]
  },
  {
   "cell_type": "markdown",
   "id": "83136b77",
   "metadata": {},
   "source": [
    "### 3.7 feature constrution"
   ]
  },
  {
   "cell_type": "markdown",
   "id": "00f23ae0",
   "metadata": {},
   "source": [
    "there we have the year of customer's birth and by using we can find out the age of Customer \n",
    "\n",
    "Customer_year- how many years of customer be a customer\n",
    "\n",
    "total_expenses - total Expenses\n",
    "\n",
    "total_accepte_cam - total Campagin Accept by customer"
   ]
  },
  {
   "cell_type": "code",
   "execution_count": 100,
   "id": "4adb5964",
   "metadata": {},
   "outputs": [],
   "source": [
    "df['age']=2023-df['Year_Birth'] # for finding customer age "
   ]
  },
  {
   "cell_type": "code",
   "execution_count": 105,
   "id": "26758369",
   "metadata": {},
   "outputs": [],
   "source": [
    "df['customer_year']=2023-df['Dt_Customer'].dt.year #means how many years has customer been a customer"
   ]
  },
  {
   "cell_type": "code",
   "execution_count": 106,
   "id": "e7d72556",
   "metadata": {},
   "outputs": [],
   "source": [
    "df['total_expense']=df['MntWines']+df['MntFruits']+df['MntMeatProducts']+df['MntFishProducts']+df['MntSweetProducts']+df['MntGoldProds']"
   ]
  },
  {
   "cell_type": "code",
   "execution_count": 108,
   "id": "a3f1ea30",
   "metadata": {},
   "outputs": [],
   "source": [
    "df['total_accepte_cam']=df['AcceptedCmp1']+df['AcceptedCmp2']+df['AcceptedCmp3']+df['AcceptedCmp4']+df['AcceptedCmp5']+df['Response']"
   ]
  },
  {
   "cell_type": "code",
   "execution_count": 111,
   "id": "77d21a23",
   "metadata": {},
   "outputs": [
    {
     "name": "stdout",
     "output_type": "stream",
     "text": [
      "<class 'pandas.core.frame.DataFrame'>\n",
      "RangeIndex: 2240 entries, 0 to 2239\n",
      "Data columns (total 33 columns):\n",
      " #   Column               Non-Null Count  Dtype         \n",
      "---  ------               --------------  -----         \n",
      " 0   ID                   2240 non-null   int64         \n",
      " 1   Year_Birth           2240 non-null   int64         \n",
      " 2   Education            2240 non-null   object        \n",
      " 3   Marital_Status       2240 non-null   object        \n",
      " 4   Income               2240 non-null   float64       \n",
      " 5   Kidhome              2240 non-null   int64         \n",
      " 6   Teenhome             2240 non-null   int64         \n",
      " 7   Dt_Customer          2240 non-null   datetime64[ns]\n",
      " 8   Recency              2240 non-null   int64         \n",
      " 9   MntWines             2240 non-null   int64         \n",
      " 10  MntFruits            2240 non-null   int64         \n",
      " 11  MntMeatProducts      2240 non-null   int64         \n",
      " 12  MntFishProducts      2240 non-null   int64         \n",
      " 13  MntSweetProducts     2240 non-null   int64         \n",
      " 14  MntGoldProds         2240 non-null   int64         \n",
      " 15  NumDealsPurchases    2240 non-null   int64         \n",
      " 16  NumWebPurchases      2240 non-null   int64         \n",
      " 17  NumCatalogPurchases  2240 non-null   int64         \n",
      " 18  NumStorePurchases    2240 non-null   int64         \n",
      " 19  NumWebVisitsMonth    2240 non-null   int64         \n",
      " 20  AcceptedCmp3         2240 non-null   int64         \n",
      " 21  AcceptedCmp4         2240 non-null   int64         \n",
      " 22  AcceptedCmp5         2240 non-null   int64         \n",
      " 23  AcceptedCmp1         2240 non-null   int64         \n",
      " 24  AcceptedCmp2         2240 non-null   int64         \n",
      " 25  Complain             2240 non-null   int64         \n",
      " 26  Z_CostContact        2240 non-null   int64         \n",
      " 27  Z_Revenue            2240 non-null   int64         \n",
      " 28  Response             2240 non-null   int64         \n",
      " 29  age                  2240 non-null   int64         \n",
      " 30  customer_year        2240 non-null   int64         \n",
      " 31  total_expense        2240 non-null   int64         \n",
      " 32  total_accepte_cam    2240 non-null   int64         \n",
      "dtypes: datetime64[ns](1), float64(1), int64(29), object(2)\n",
      "memory usage: 577.6+ KB\n"
     ]
    }
   ],
   "source": [
    "df.info()"
   ]
  },
  {
   "cell_type": "markdown",
   "id": "a87b7a01",
   "metadata": {},
   "source": [
    "### 4. Exploring Data ( Visualization )"
   ]
  },
  {
   "cell_type": "markdown",
   "id": "3c8da917",
   "metadata": {},
   "source": [
    "#### Visualiz Distribution to make some Conclusion\n",
    "Histogram\n",
    "\n",
    "Kernel Distribution Function (KDE)"
   ]
  },
  {
   "cell_type": "markdown",
   "id": "2e9a1a7d",
   "metadata": {},
   "source": [
    "### 4.1 Income Distribution"
   ]
  },
  {
   "cell_type": "code",
   "execution_count": 122,
   "id": "5bee1b75",
   "metadata": {},
   "outputs": [
    {
     "data": {
      "image/png": "[encoded data removed]",
      "text/plain": [
       "<Figure size 864x360 with 1 Axes>"
      ]
     },
     "metadata": {},
     "output_type": "display_data"
    }
   ],
   "source": [
    "plt.figure(figsize=(12,5), facecolor=\"lightyellow\")\n",
    "sns.histplot(df['Income'], kde=True, binwidth=10000)\n",
    "plt.title(\"Income\")\n",
    "plt.show()"
   ]
  },
  {
   "cell_type": "markdown",
   "id": "23b80544",
   "metadata": {},
   "source": [
    "### insight\n",
    "we can see here maximum Customer has 30000 to 80000 Income range "
   ]
  },
  {
   "cell_type": "markdown",
   "id": "4436271a",
   "metadata": {},
   "source": [
    "### 4.2 Age distribution"
   ]
  },
  {
   "cell_type": "code",
   "execution_count": 129,
   "id": "e8aae0f8",
   "metadata": {},
   "outputs": [
    {
     "data": {
      "image/png": "[encoded data removed]",
      "text/plain": [
       "<Figure size 864x360 with 1 Axes>"
      ]
     },
     "metadata": {},
     "output_type": "display_data"
    }
   ],
   "source": [
    "plt.figure(figsize=(12,5), facecolor='lightyellow')\n",
    "sns.histplot(df['age'], kde=True)\n",
    "plt.title(\"Age\")\n",
    "plt.show()"
   ]
  },
  {
   "cell_type": "markdown",
   "id": "1d36e70e",
   "metadata": {},
   "source": [
    "#### insight\n",
    "We can see most of the Customer are lying 44 to 55 age group"
   ]
  },
  {
   "cell_type": "markdown",
   "id": "1accbf00",
   "metadata": {},
   "source": [
    "### 4.3 customer_year Distribution"
   ]
  },
  {
   "cell_type": "code",
   "execution_count": 131,
   "id": "d3b79da0",
   "metadata": {},
   "outputs": [
    {
     "data": {
      "image/png": "[encoded data removed]",
      "text/plain": [
       "<Figure size 864x360 with 1 Axes>"
      ]
     },
     "metadata": {},
     "output_type": "display_data"
    }
   ],
   "source": [
    "plt.figure(figsize=(12,5), facecolor=\"lightyellow\")\n",
    "sns.histplot(df['customer_year'], kde=True)\n",
    "plt.title(\"customer_year\")\n",
    "plt.show()"
   ]
  },
  {
   "cell_type": "markdown",
   "id": "cb007cb5",
   "metadata": {},
   "source": [
    "#### Insight\n",
    "Maximum Customers have almost 10 year of Experience with Company"
   ]
  },
  {
   "cell_type": "markdown",
   "id": "560af884",
   "metadata": {},
   "source": [
    "#### Visualiz how data distribut in Marital status and Education\n",
    "Pie chart\n",
    "\n",
    "Bar Graph"
   ]
  },
  {
   "cell_type": "markdown",
   "id": "4a731d12",
   "metadata": {},
   "source": [
    "### 4.4 Education "
   ]
  },
  {
   "cell_type": "code",
   "execution_count": 206,
   "id": "d605cacd",
   "metadata": {},
   "outputs": [
    {
     "data": {
      "image/png": "[encoded data removed]",
      "text/plain": [
       "<Figure size 1080x360 with 2 Axes>"
      ]
     },
     "metadata": {},
     "output_type": "display_data"
    }
   ],
   "source": [
    "plt.figure(figsize=(15,5),facecolor=\"lightyellow\")\n",
    "plt.subplot(1,2,1)\n",
    "#first plot\n",
    "df['Education'].value_counts().plot(kind='pie',autopct='%.0f%%')\n",
    "#2nd plot\n",
    "plt.subplot(1,2,2)\n",
    "sns.countplot(data=df, x='Education', order=df['Education'].value_counts().index, palette='rocket')\n",
    "plt.show()"
   ]
  },
  {
   "cell_type": "markdown",
   "id": "11a7f71b",
   "metadata": {},
   "source": [
    "#### Insight\n",
    "from the above two graph we can see maximum customers had Graduation (almost 50% of customers) after that 22% customers had Phd "
   ]
  },
  {
   "cell_type": "markdown",
   "id": "68a9e76a",
   "metadata": {},
   "source": [
    "### 4.5 Marital Status"
   ]
  },
  {
   "cell_type": "code",
   "execution_count": 207,
   "id": "5b783ca6",
   "metadata": {
    "scrolled": true
   },
   "outputs": [
    {
     "data": {
      "image/png": "[encoded data removed]",
      "text/plain": [
       "<Figure size 720x360 with 1 Axes>"
      ]
     },
     "metadata": {},
     "output_type": "display_data"
    }
   ],
   "source": [
    "plt.figure(figsize=(10,5),facecolor=\"lightyellow\")\n",
    "sns.countplot(data=df, x='Marital_Status', order=df['Marital_Status'].value_counts().index)\n",
    "plt.title(\"Marital status\")\n",
    "plt.show()"
   ]
  },
  {
   "cell_type": "markdown",
   "id": "1976dd31",
   "metadata": {},
   "source": [
    "#### insight\n",
    "Most of the Customer are already married "
   ]
  },
  {
   "cell_type": "markdown",
   "id": "6f2c3948",
   "metadata": {},
   "source": [
    "### 4.6 kid "
   ]
  },
  {
   "cell_type": "code",
   "execution_count": 208,
   "id": "0c6e23fa",
   "metadata": {},
   "outputs": [
    {
     "data": {
      "image/png": "[encoded data removed]",
      "text/plain": [
       "<Figure size 576x360 with 1 Axes>"
      ]
     },
     "metadata": {},
     "output_type": "display_data"
    }
   ],
   "source": [
    "plt.figure(figsize=(8,5),facecolor=\"lightyellow\")\n",
    "lab=df['Kidhome'].unique()\n",
    "plt.pie(df['Kidhome'].value_counts(), autopct='%.0f%%', labels=lab)\n",
    "plt.title(\"kidhome\")\n",
    "plt.show()"
   ]
  },
  {
   "cell_type": "markdown",
   "id": "d9d8b3d9",
   "metadata": {},
   "source": [
    "#### insight \n",
    "Based on above graph 58% of customers don't have any kid\n",
    "\n",
    "40% of customers have only a kid \n",
    "\n",
    "and only 2% of customer have 2 kid "
   ]
  },
  {
   "cell_type": "markdown",
   "id": "707180aa",
   "metadata": {},
   "source": [
    "### 4.7 Teen"
   ]
  },
  {
   "cell_type": "code",
   "execution_count": 209,
   "id": "06f808bd",
   "metadata": {},
   "outputs": [
    {
     "data": {
      "image/png": "[encoded data removed]",
      "text/plain": [
       "<Figure size 576x360 with 1 Axes>"
      ]
     },
     "metadata": {},
     "output_type": "display_data"
    }
   ],
   "source": [
    "plt.figure(figsize=(8,5),facecolor=\"lightyellow\")\n",
    "lab=df['Teenhome'].unique()\n",
    "plt.pie(df['Teenhome'].value_counts(), autopct='%.0f%%', labels=lab)\n",
    "plt.title(\"Teenhome\")\n",
    "plt.show()"
   ]
  },
  {
   "cell_type": "markdown",
   "id": "cb2fce21",
   "metadata": {},
   "source": [
    "#### insight\n",
    "52% of customers don't have any teen in thair home\n",
    "\n",
    "46% of customers have only a teen \n",
    "\n",
    "and 2% of customers have 2 teen in home"
   ]
  },
  {
   "cell_type": "markdown",
   "id": "dd0aca39",
   "metadata": {},
   "source": [
    "### 4.8 Expenses\n",
    "\n",
    "Bar Chart"
   ]
  },
  {
   "cell_type": "code",
   "execution_count": 219,
   "id": "231c696b",
   "metadata": {},
   "outputs": [
    {
     "data": {
      "text/plain": [
       "Text(0.5, 1.0, 'Expenses')"
      ]
     },
     "execution_count": 219,
     "metadata": {},
     "output_type": "execute_result"
    },
    {
     "data": {
      "image/png": "[encoded data removed]",
      "text/plain": [
       "<Figure size 864x360 with 1 Axes>"
      ]
     },
     "metadata": {},
     "output_type": "display_data"
    }
   ],
   "source": [
    "plt.figure(figsize=(12,5),facecolor=\"lightyellow\")\n",
    "ax=df[['MntWines', 'MntFruits', 'MntMeatProducts', 'MntFishProducts', 'MntSweetProducts', 'MntGoldProds']].sum().sort_values(ascending=True).plot(kind='bar')\n",
    "plt.title('Expenses', pad=15, fontsize=18)\n",
    "plt.show()"
   ]
  },
  {
   "cell_type": "markdown",
   "id": "66f287f4",
   "metadata": {},
   "source": [
    "#### insight\n",
    "from he above graph we can see Wine has the highest Selling amount\n",
    "\n",
    "And Fruites has minimum selling amount"
   ]
  },
  {
   "cell_type": "markdown",
   "id": "6732fd55",
   "metadata": {},
   "source": [
    "### 4.9 Campaign "
   ]
  },
  {
   "cell_type": "code",
   "execution_count": 226,
   "id": "9ec33e8f",
   "metadata": {},
   "outputs": [
    {
     "data": {
      "text/plain": [
       "Text(0.5, 1.0, 'Campaign')"
      ]
     },
     "execution_count": 226,
     "metadata": {},
     "output_type": "execute_result"
    },
    {
     "data": {
      "image/png": "[encoded data removed]",
      "text/plain": [
       "<Figure size 864x360 with 1 Axes>"
      ]
     },
     "metadata": {},
     "output_type": "display_data"
    }
   ],
   "source": [
    "plt.figure(figsize=(12,5),facecolor=\"lightyellow\")\n",
    "df[['AcceptedCmp1', 'AcceptedCmp2', 'AcceptedCmp3', 'AcceptedCmp4', 'AcceptedCmp5', 'Response']].sum().sort_values(ascending=True).plot(kind='bar')\n",
    "plt.title('Campaign', pad=15, fontsize=18)\n",
    "plt.show()"
   ]
  },
  {
   "cell_type": "markdown",
   "id": "dc3e22f9",
   "metadata": {},
   "source": [
    "#### insight\n",
    "Maximum Customer Acceped Last Campaign Offer "
   ]
  },
  {
   "cell_type": "markdown",
   "id": "52ed52e0",
   "metadata": {},
   "source": [
    "### 4.10 Purchases"
   ]
  },
  {
   "cell_type": "code",
   "execution_count": 230,
   "id": "9fa911d5",
   "metadata": {},
   "outputs": [
    {
     "data": {
      "image/png": "[encoded data removed]",
      "text/plain": [
       "<Figure size 864x360 with 1 Axes>"
      ]
     },
     "metadata": {},
     "output_type": "display_data"
    }
   ],
   "source": [
    "plt.figure(figsize=(12,5),facecolor=\"lightyellow\")\n",
    "df[['NumDealsPurchases', 'NumWebPurchases', 'NumCatalogPurchases', 'NumStorePurchases']].sum().sort_values(ascending=True).plot(kind='bar')\n",
    "plt.title('Purchases', pad=15, fontsize=18)\n",
    "plt.show()"
   ]
  },
  {
   "cell_type": "markdown",
   "id": "f204cfbc",
   "metadata": {},
   "source": [
    "#### Insight\n",
    "Based on the number purchases category graph, number of purchases made directly in stores is the highest."
   ]
  },
  {
   "cell_type": "markdown",
   "id": "48e8f081",
   "metadata": {},
   "source": [
    "### 5.1. Multivariate analysis "
   ]
  },
  {
   "cell_type": "markdown",
   "id": "a7cc9d6b",
   "metadata": {},
   "source": [
    "### 5.1.1 Expense"
   ]
  },
  {
   "cell_type": "markdown",
   "id": "351e96d6",
   "metadata": {},
   "source": [
    "### 5.1.1 Total Expense by Education"
   ]
  },
  {
   "cell_type": "code",
   "execution_count": 240,
   "id": "871c9937",
   "metadata": {},
   "outputs": [
    {
     "data": {
      "image/png": "[encoded data removed]",
      "text/plain": [
       "<Figure size 720x360 with 1 Axes>"
      ]
     },
     "metadata": {
      "needs_background": "light"
     },
     "output_type": "display_data"
    }
   ],
   "source": [
    "df[['Education', 'total_expense']].groupby('Education').sum().sort_values(by='total_expense', ascending=False).plot(kind='bar', figsize=(10,5), color='blue')\n",
    "plt.title('Total Expense by Education')\n",
    "plt.show()"
   ]
  },
  {
   "cell_type": "markdown",
   "id": "6b6f80ec",
   "metadata": {},
   "source": [
    "#### insight \n",
    "Here as we can see customer who are from graduaction education lavel they Expensed high amount"
   ]
  },
  {
   "cell_type": "code",
   "execution_count": null,
   "id": "315f39d6",
   "metadata": {},
   "outputs": [],
   "source": [
    "#Education \n",
    "#marital_status\n",
    "#kidhome\n",
    "#teenhome"
   ]
  },
  {
   "cell_type": "markdown",
   "id": "3b53a105",
   "metadata": {},
   "source": [
    "### 5.1.2 Total expense by Marital Status"
   ]
  },
  {
   "cell_type": "code",
   "execution_count": 242,
   "id": "0ddabca3",
   "metadata": {},
   "outputs": [
    {
     "data": {
      "image/png": "[encoded data removed]",
      "text/plain": [
       "<Figure size 720x360 with 1 Axes>"
      ]
     },
     "metadata": {
      "needs_background": "light"
     },
     "output_type": "display_data"
    }
   ],
   "source": [
    "df[['Marital_Status', 'total_expense']].groupby('Marital_Status').sum().sort_values(by='total_expense', ascending=False).plot(kind='bar', figsize=(10,5), color='blue')\n",
    "plt.title('Total Expense by Marital_Status')\n",
    "plt.show()"
   ]
  },
  {
   "cell_type": "markdown",
   "id": "91a54e2f",
   "metadata": {},
   "source": [
    "#### insight \n",
    "Married Customer Expense a lot"
   ]
  },
  {
   "cell_type": "markdown",
   "id": "5d89e0c1",
   "metadata": {},
   "source": [
    "### 5.1.3 Total expense by kid home"
   ]
  },
  {
   "cell_type": "code",
   "execution_count": 243,
   "id": "3420bf1a",
   "metadata": {},
   "outputs": [
    {
     "data": {
      "image/png": "[encoded data removed]",
      "text/plain": [
       "<Figure size 720x360 with 1 Axes>"
      ]
     },
     "metadata": {
      "needs_background": "light"
     },
     "output_type": "display_data"
    }
   ],
   "source": [
    "df[['Kidhome', 'total_expense']].groupby('Kidhome').sum().sort_values(by='total_expense', ascending=False).plot(kind='bar', figsize=(10,5), color='blue')\n",
    "plt.title('Total Expense by Kidhome')\n",
    "plt.show()"
   ]
  },
  {
   "cell_type": "markdown",
   "id": "202550e9",
   "metadata": {},
   "source": [
    "#### Insight\n",
    "We can see Customer Does't have any kid at home contributes the highest expense."
   ]
  },
  {
   "cell_type": "markdown",
   "id": "4eb88597",
   "metadata": {},
   "source": [
    "### 5.1.4 Total expense by teen home"
   ]
  },
  {
   "cell_type": "code",
   "execution_count": 244,
   "id": "5593d289",
   "metadata": {},
   "outputs": [
    {
     "data": {
      "image/png": "[encoded data removed]",
      "text/plain": [
       "<Figure size 720x360 with 1 Axes>"
      ]
     },
     "metadata": {
      "needs_background": "light"
     },
     "output_type": "display_data"
    }
   ],
   "source": [
    "df[['Teenhome', 'total_expense']].groupby('Teenhome').sum().sort_values(by='total_expense', ascending=False).plot(kind='bar', figsize=(10,5), color='blue')\n",
    "plt.title('Total Expense by Teenhome')\n",
    "plt.show()"
   ]
  },
  {
   "cell_type": "markdown",
   "id": "ae6505ee",
   "metadata": {},
   "source": [
    "#### insight\n",
    "Customer does not have any teen at home contributes the highest Expense"
   ]
  },
  {
   "cell_type": "markdown",
   "id": "b9cec412",
   "metadata": {},
   "source": [
    "### 5.2 Campaign Accept"
   ]
  },
  {
   "cell_type": "markdown",
   "id": "0fec756f",
   "metadata": {},
   "source": [
    "### 5.2.1 Campaign accept by education"
   ]
  },
  {
   "cell_type": "code",
   "execution_count": 246,
   "id": "741239fb",
   "metadata": {},
   "outputs": [
    {
     "data": {
      "image/png": "[encoded data removed]",
      "text/plain": [
       "<Figure size 720x360 with 1 Axes>"
      ]
     },
     "metadata": {
      "needs_background": "light"
     },
     "output_type": "display_data"
    }
   ],
   "source": [
    "df[['Education', 'total_accepte_cam']].groupby('Education').sum().sort_values(by='total_accepte_cam', ascending=False).plot(kind='bar', figsize=(10,5), color='blue')\n",
    "plt.title('Total Acc campaign by Education')\n",
    "plt.show()"
   ]
  },
  {
   "cell_type": "markdown",
   "id": "f08bca73",
   "metadata": {},
   "source": [
    "#### insight\n",
    "Graduate Customer Accept maximum Campaign"
   ]
  },
  {
   "cell_type": "markdown",
   "id": "adf391c7",
   "metadata": {},
   "source": [
    "### 5.2.2 Campaign accept by Marital Status"
   ]
  },
  {
   "cell_type": "code",
   "execution_count": 247,
   "id": "617cdb00",
   "metadata": {},
   "outputs": [
    {
     "data": {
      "image/png": "[encoded data removed]",
      "text/plain": [
       "<Figure size 720x360 with 1 Axes>"
      ]
     },
     "metadata": {
      "needs_background": "light"
     },
     "output_type": "display_data"
    }
   ],
   "source": [
    "df[['Marital_Status', 'total_accepte_cam']].groupby('Marital_Status').sum().sort_values(by='total_accepte_cam', ascending=False).plot(kind='bar', figsize=(10,5), color='blue')\n",
    "plt.title('Total Acc campaign by Marital_Status')\n",
    "plt.show()"
   ]
  },
  {
   "cell_type": "markdown",
   "id": "2ff12407",
   "metadata": {},
   "source": [
    "####  insight\n",
    "Customer who are married Accept most Campaign."
   ]
  },
  {
   "cell_type": "markdown",
   "id": "6d0e5574",
   "metadata": {},
   "source": [
    "### 5.2.3 Campaign accept by kid home"
   ]
  },
  {
   "cell_type": "code",
   "execution_count": 248,
   "id": "607d4bc9",
   "metadata": {},
   "outputs": [
    {
     "data": {
      "image/png": "[encoded data removed]",
      "text/plain": [
       "<Figure size 720x360 with 1 Axes>"
      ]
     },
     "metadata": {
      "needs_background": "light"
     },
     "output_type": "display_data"
    }
   ],
   "source": [
    "df[['Kidhome', 'total_accepte_cam']].groupby('Kidhome').sum().sort_values(by='total_accepte_cam', ascending=False).plot(kind='bar', figsize=(10,5), color='blue')\n",
    "plt.title('Total Acc campaign by Kidhome')\n",
    "plt.show()"
   ]
  },
  {
   "cell_type": "markdown",
   "id": "8fe60864",
   "metadata": {},
   "source": [
    "#### insight \n",
    "Customer who does not have any kid accept most Capmaign."
   ]
  },
  {
   "cell_type": "markdown",
   "id": "5cf414dd",
   "metadata": {},
   "source": [
    "### 5.2.4 Campaign accept by teen home"
   ]
  },
  {
   "cell_type": "code",
   "execution_count": 249,
   "id": "8f94967e",
   "metadata": {},
   "outputs": [
    {
     "data": {
      "image/png": "[encoded data removed]",
      "text/plain": [
       "<Figure size 720x360 with 1 Axes>"
      ]
     },
     "metadata": {
      "needs_background": "light"
     },
     "output_type": "display_data"
    }
   ],
   "source": [
    "df[['Teenhome', 'total_accepte_cam']].groupby('Teenhome').sum().sort_values(by='total_accepte_cam', ascending=False).plot(kind='bar', figsize=(10,5), color='blue')\n",
    "plt.title('Total Acc campaign by Teenhome')\n",
    "plt.show()"
   ]
  },
  {
   "cell_type": "markdown",
   "id": "1eebd8a1",
   "metadata": {},
   "source": [
    "#### insight\n",
    "Customer who does not have any teen accept most Campaign"
   ]
  },
  {
   "cell_type": "markdown",
   "id": "dd5765c0",
   "metadata": {},
   "source": [
    "### 5.3.1 Relation between numeric column"
   ]
  },
  {
   "cell_type": "code",
   "execution_count": 251,
   "id": "2332eacd",
   "metadata": {},
   "outputs": [
    {
     "data": {
      "text/html": [
       "<div>\n",
       "<style scoped>\n",
       "    .dataframe tbody tr th:only-of-type {\n",
       "        vertical-align: middle;\n",
       "    }\n",
       "\n",
       "    .dataframe tbody tr th {\n",
       "        vertical-align: top;\n",
       "    }\n",
       "\n",
       "    .dataframe thead th {\n",
       "        text-align: right;\n",
       "    }\n",
       "</style>\n",
       "<table border=\"1\" class=\"dataframe\">\n",
       "  <thead>\n",
       "    <tr style=\"text-align: right;\">\n",
       "      <th></th>\n",
       "      <th>age</th>\n",
       "      <th>total_expense</th>\n",
       "      <th>Income</th>\n",
       "      <th>total_accepte_cam</th>\n",
       "    </tr>\n",
       "  </thead>\n",
       "  <tbody>\n",
       "    <tr>\n",
       "      <th>age</th>\n",
       "      <td>1.000000</td>\n",
       "      <td>0.111306</td>\n",
       "      <td>0.160899</td>\n",
       "      <td>-0.008302</td>\n",
       "    </tr>\n",
       "    <tr>\n",
       "      <th>total_expense</th>\n",
       "      <td>0.111306</td>\n",
       "      <td>1.000000</td>\n",
       "      <td>0.664775</td>\n",
       "      <td>0.456206</td>\n",
       "    </tr>\n",
       "    <tr>\n",
       "      <th>Income</th>\n",
       "      <td>0.160899</td>\n",
       "      <td>0.664775</td>\n",
       "      <td>1.000000</td>\n",
       "      <td>0.287109</td>\n",
       "    </tr>\n",
       "    <tr>\n",
       "      <th>total_accepte_cam</th>\n",
       "      <td>-0.008302</td>\n",
       "      <td>0.456206</td>\n",
       "      <td>0.287109</td>\n",
       "      <td>1.000000</td>\n",
       "    </tr>\n",
       "  </tbody>\n",
       "</table>\n",
       "</div>"
      ],
      "text/plain": [
       "                        age  total_expense    Income  total_accepte_cam\n",
       "age                1.000000       0.111306  0.160899          -0.008302\n",
       "total_expense      0.111306       1.000000  0.664775           0.456206\n",
       "Income             0.160899       0.664775  1.000000           0.287109\n",
       "total_accepte_cam -0.008302       0.456206  0.287109           1.000000"
      ]
     },
     "execution_count": 251,
     "metadata": {},
     "output_type": "execute_result"
    }
   ],
   "source": [
    "df[['age', 'total_expense', 'Income', 'total_accepte_cam']].corr()"
   ]
  },
  {
   "cell_type": "code",
   "execution_count": 258,
   "id": "25a7ec85",
   "metadata": {},
   "outputs": [
    {
     "data": {
      "image/png": "[encoded data removed]",
      "text/plain": [
       "<Figure size 576x360 with 2 Axes>"
      ]
     },
     "metadata": {
      "needs_background": "light"
     },
     "output_type": "display_data"
    }
   ],
   "source": [
    "plt.figure(figsize=(8,5))\n",
    "sns.heatmap(df[['age', 'total_expense', 'Income', 'total_accepte_cam']].corr(), annot=True)\n",
    "plt.show()"
   ]
  },
  {
   "cell_type": "markdown",
   "id": "05830793",
   "metadata": {},
   "source": [
    "#### insight\n",
    "Here we can see the relation between age, total expenses, income, and Campaign accept so the highest correllation is income and total expense \n",
    "\n",
    "between total expenses and campaign accept correlation is also good "
   ]
  },
  {
   "cell_type": "code",
   "execution_count": null,
   "id": "db5c66c1",
   "metadata": {},
   "outputs": [],
   "source": []
  },
  {
   "cell_type": "markdown",
   "id": "c24656ec",
   "metadata": {},
   "source": [
    "## Conclusions \n",
    "maximum Customers has the Income range 30000 to 80000.\n",
    "\n",
    "most of the Customers age group range is 44 to 55.\n",
    "\n",
    "Maximum Customers have almost 10 years of Experience with the Company.\n",
    "\n",
    "maximum customers have Graduation(50% of customers) and 22% of customers have Phd. \n",
    "\n",
    "Most of the Customers are already married.\n",
    "\n",
    "kid-\n",
    "58% of customers don't have any kid.\n",
    "\n",
    "40% of customers have only a kid. \n",
    "\n",
    "and only 2% of customers have 2 kid.\n",
    "\n",
    "teen-\n",
    "\n",
    "52% of customers don't have any tee.\n",
    "\n",
    "46% of customers have only a teen. \n",
    "\n",
    "and 2% of customers have 2 teens at home.\n",
    "\n",
    "Expenses-\n",
    "\n",
    "Wine has the highest Selling amount And Fruits has the minimum selling amount.\n",
    "\n",
    "graduate Customer contributes the highest expense.\n",
    "\n",
    "Customer Does't have any kid at home contributes the highest expense.\n",
    "\n",
    "Married Customer Expense a lot.\n",
    "\n",
    "Customer does not have any teen at home contributes the highest Expense.\n",
    "\n",
    "campaign-\n",
    "\n",
    "Maximum Customer Accepted Last Campaign Offer.\n",
    "\n",
    "Graduate Customer Accept Maximum Campaign. \n",
    "\n",
    "Customers who are married Accept most Campaigns.\n",
    "\n",
    "Customer who does not have any kid accept most Campaign.\n",
    "\n",
    "Customer who does not have any teen accept most Campaign."
   ]
  },
  {
   "cell_type": "code",
   "execution_count": null,
   "id": "b933bde8",
   "metadata": {},
   "outputs": [],
   "source": []
  }
 ],
 "metadata": {
  "kernelspec": {
   "display_name": "Python 3",
   "language": "python",
   "name": "python3"
  },
  "language_info": {
   "codemirror_mode": {
    "name": "ipython",
    "version": 3
   },
   "file_extension": ".py",
   "mimetype": "text/x-python",
   "name": "python",
   "nbconvert_exporter": "python",
   "pygments_lexer": "ipython3",
   "version": "3.8.8"
  }
 },
 "nbformat": 4,
 "nbformat_minor": 5
}
